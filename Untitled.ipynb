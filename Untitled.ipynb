{
 "cells": [
  {
   "cell_type": "code",
   "execution_count": 1,
   "metadata": {},
   "outputs": [],
   "source": [
    "%load_ext autoreload\n",
    "%autoreload 2"
   ]
  },
  {
   "cell_type": "code",
   "execution_count": 7,
   "metadata": {},
   "outputs": [],
   "source": [
    "from my_frame import MyTable, read_csv\n",
    "import csv\n",
    "from utils import *\n",
    "import numpy as np\n",
    "import re\n",
    "from datetime import datetime\n",
    "import pandas as pd"
   ]
  },
  {
   "cell_type": "code",
   "execution_count": 8,
   "metadata": {},
   "outputs": [],
   "source": [
    "with open('./datasets/dataset_test.csv') as f:\n",
    "    data = list(csv.DictReader(f))"
   ]
  },
  {
   "cell_type": "code",
   "execution_count": 9,
   "metadata": {},
   "outputs": [],
   "source": [
    "df = pd.read_csv('./datasets/dataset_test.csv', dtype={'Index': int,\n",
    " 'Hogwarts House': float,\n",
    " 'First Name': str,\n",
    " 'Last Name': str,\n",
    " 'Best Hand': str,\n",
    " 'Arithmancy': float,\n",
    " 'Astronomy': float,\n",
    " 'Herbology': float,\n",
    " 'Defense Against the Dark Arts': float,\n",
    " 'Divination': float,\n",
    " 'Muggle Studies': float,\n",
    " 'Ancient Runes': float,\n",
    " 'History of Magic': float,\n",
    " 'Transfiguration': float,\n",
    " 'Potions': float,\n",
    " 'Care of Magical Creatures': float,\n",
    " 'Charms': float,\n",
    " 'Flying': float})"
   ]
  },
  {
   "cell_type": "code",
   "execution_count": 10,
   "metadata": {},
   "outputs": [],
   "source": [
    "mdf = read_csv('./datasets/dataset_test.csv', error_bad_lines=False)\n",
    "columns = mdf.columns"
   ]
  },
  {
   "cell_type": "code",
   "execution_count": 11,
   "metadata": {},
   "outputs": [],
   "source": [
    "columns = list(mdf.columns)[3:] + list(mdf.columns)[:3]"
   ]
  },
  {
   "cell_type": "code",
   "execution_count": 12,
   "metadata": {},
   "outputs": [
    {
     "data": {
      "text/plain": [
       "{'Index': 199.5,\n",
       " 'Hogwarts House': nan,\n",
       " 'Arithmancy': 50088.97157622739,\n",
       " 'Astronomy': 48.15532589676874,\n",
       " 'Herbology': 1.3855172099874644,\n",
       " 'Defense Against the Dark Arts': -0.5378428483788057,\n",
       " 'Divination': 3.4110710659898484,\n",
       " 'Muggle Studies': -220.16959428356253,\n",
       " 'Ancient Runes': 495.93754284216845,\n",
       " 'History of Magic': 2.829816024018503,\n",
       " 'Transfiguration': 1030.8857765042972,\n",
       " 'Potions': 5.776860426902232,\n",
       " 'Care of Magical Creatures': 0.02298541311313011,\n",
       " 'Charms': -243.18110942500024,\n",
       " 'Flying': 23.367449999999977}"
      ]
     },
     "execution_count": 12,
     "metadata": {},
     "output_type": "execute_result"
    }
   ],
   "source": [
    "mdf.mean()"
   ]
  },
  {
   "cell_type": "code",
   "execution_count": 15,
   "metadata": {},
   "outputs": [
    {
     "data": {
      "text/html": [
       "<div>\n",
       "<style scoped>\n",
       "    .dataframe tbody tr th:only-of-type {\n",
       "        vertical-align: middle;\n",
       "    }\n",
       "\n",
       "    .dataframe tbody tr th {\n",
       "        vertical-align: top;\n",
       "    }\n",
       "\n",
       "    .dataframe thead th {\n",
       "        text-align: right;\n",
       "    }\n",
       "</style>\n",
       "<table border=\"1\" class=\"dataframe\">\n",
       "  <thead>\n",
       "    <tr style=\"text-align: right;\">\n",
       "      <th></th>\n",
       "      <th>Index</th>\n",
       "      <th>Hogwarts House</th>\n",
       "      <th>First Name</th>\n",
       "      <th>Last Name</th>\n",
       "      <th>Birthday</th>\n",
       "      <th>Best Hand</th>\n",
       "      <th>Arithmancy</th>\n",
       "      <th>Astronomy</th>\n",
       "      <th>Herbology</th>\n",
       "      <th>Defense Against the Dark Arts</th>\n",
       "      <th>Divination</th>\n",
       "      <th>Muggle Studies</th>\n",
       "      <th>Ancient Runes</th>\n",
       "      <th>History of Magic</th>\n",
       "      <th>Transfiguration</th>\n",
       "      <th>Potions</th>\n",
       "      <th>Care of Magical Creatures</th>\n",
       "      <th>Charms</th>\n",
       "      <th>Flying</th>\n",
       "    </tr>\n",
       "  </thead>\n",
       "  <tbody>\n",
       "    <tr>\n",
       "      <th>0</th>\n",
       "      <td>0</td>\n",
       "      <td>NaN</td>\n",
       "      <td>Rico</td>\n",
       "      <td>Sargent</td>\n",
       "      <td>2001-10-06</td>\n",
       "      <td>Right</td>\n",
       "      <td>41642.0</td>\n",
       "      <td>696.096071</td>\n",
       "      <td>3.020172</td>\n",
       "      <td>-6.960961</td>\n",
       "      <td>7.996</td>\n",
       "      <td>-365.151850</td>\n",
       "      <td>393.138185</td>\n",
       "      <td>4.207691</td>\n",
       "      <td>1046.742736</td>\n",
       "      <td>3.668983</td>\n",
       "      <td>0.373853</td>\n",
       "      <td>-244.48172</td>\n",
       "      <td>-13.62</td>\n",
       "    </tr>\n",
       "    <tr>\n",
       "      <th>1</th>\n",
       "      <td>1</td>\n",
       "      <td>NaN</td>\n",
       "      <td>Tamara</td>\n",
       "      <td>Shackelford</td>\n",
       "      <td>1998-01-08</td>\n",
       "      <td>Left</td>\n",
       "      <td>45352.0</td>\n",
       "      <td>-370.844655</td>\n",
       "      <td>2.965226</td>\n",
       "      <td>3.708447</td>\n",
       "      <td>6.349</td>\n",
       "      <td>522.580486</td>\n",
       "      <td>602.853051</td>\n",
       "      <td>6.460017</td>\n",
       "      <td>1048.053878</td>\n",
       "      <td>8.514622</td>\n",
       "      <td>0.577432</td>\n",
       "      <td>-231.29200</td>\n",
       "      <td>-26.26</td>\n",
       "    </tr>\n",
       "    <tr>\n",
       "      <th>2</th>\n",
       "      <td>2</td>\n",
       "      <td>NaN</td>\n",
       "      <td>Staci</td>\n",
       "      <td>Crandall</td>\n",
       "      <td>1998-09-15</td>\n",
       "      <td>Left</td>\n",
       "      <td>43502.0</td>\n",
       "      <td>320.303990</td>\n",
       "      <td>-6.185697</td>\n",
       "      <td>-3.203040</td>\n",
       "      <td>4.619</td>\n",
       "      <td>-630.073207</td>\n",
       "      <td>588.071795</td>\n",
       "      <td>-5.565818</td>\n",
       "      <td>936.437358</td>\n",
       "      <td>1.850829</td>\n",
       "      <td>-1.647150</td>\n",
       "      <td>-252.99343</td>\n",
       "      <td>200.15</td>\n",
       "    </tr>\n",
       "    <tr>\n",
       "      <th>3</th>\n",
       "      <td>3</td>\n",
       "      <td>NaN</td>\n",
       "      <td>Dee</td>\n",
       "      <td>Gavin</td>\n",
       "      <td>2001-05-10</td>\n",
       "      <td>Right</td>\n",
       "      <td>61831.0</td>\n",
       "      <td>407.202928</td>\n",
       "      <td>4.962442</td>\n",
       "      <td>NaN</td>\n",
       "      <td>NaN</td>\n",
       "      <td>-449.179806</td>\n",
       "      <td>427.699966</td>\n",
       "      <td>NaN</td>\n",
       "      <td>1043.397718</td>\n",
       "      <td>4.656573</td>\n",
       "      <td>1.164708</td>\n",
       "      <td>-244.01660</td>\n",
       "      <td>-11.15</td>\n",
       "    </tr>\n",
       "    <tr>\n",
       "      <th>4</th>\n",
       "      <td>4</td>\n",
       "      <td>NaN</td>\n",
       "      <td>Gregory</td>\n",
       "      <td>Gustafson</td>\n",
       "      <td>1999-02-01</td>\n",
       "      <td>Right</td>\n",
       "      <td>NaN</td>\n",
       "      <td>288.337747</td>\n",
       "      <td>3.737656</td>\n",
       "      <td>-2.883377</td>\n",
       "      <td>4.886</td>\n",
       "      <td>-449.732166</td>\n",
       "      <td>385.712782</td>\n",
       "      <td>2.876347</td>\n",
       "      <td>1051.377936</td>\n",
       "      <td>2.750586</td>\n",
       "      <td>0.102104</td>\n",
       "      <td>-243.99806</td>\n",
       "      <td>-7.12</td>\n",
       "    </tr>\n",
       "    <tr>\n",
       "      <th>...</th>\n",
       "      <td>...</td>\n",
       "      <td>...</td>\n",
       "      <td>...</td>\n",
       "      <td>...</td>\n",
       "      <td>...</td>\n",
       "      <td>...</td>\n",
       "      <td>...</td>\n",
       "      <td>...</td>\n",
       "      <td>...</td>\n",
       "      <td>...</td>\n",
       "      <td>...</td>\n",
       "      <td>...</td>\n",
       "      <td>...</td>\n",
       "      <td>...</td>\n",
       "      <td>...</td>\n",
       "      <td>...</td>\n",
       "      <td>...</td>\n",
       "      <td>...</td>\n",
       "      <td>...</td>\n",
       "    </tr>\n",
       "    <tr>\n",
       "      <th>395</th>\n",
       "      <td>395</td>\n",
       "      <td>NaN</td>\n",
       "      <td>Maria</td>\n",
       "      <td>Kidwell</td>\n",
       "      <td>1999-02-06</td>\n",
       "      <td>Left</td>\n",
       "      <td>45857.0</td>\n",
       "      <td>-554.181932</td>\n",
       "      <td>-5.647655</td>\n",
       "      <td>5.541819</td>\n",
       "      <td>-3.799</td>\n",
       "      <td>-591.764651</td>\n",
       "      <td>392.973420</td>\n",
       "      <td>7.048482</td>\n",
       "      <td>1047.648405</td>\n",
       "      <td>10.408749</td>\n",
       "      <td>1.882786</td>\n",
       "      <td>-248.39978</td>\n",
       "      <td>-94.89</td>\n",
       "    </tr>\n",
       "    <tr>\n",
       "      <th>396</th>\n",
       "      <td>396</td>\n",
       "      <td>NaN</td>\n",
       "      <td>Frederic</td>\n",
       "      <td>Koonce</td>\n",
       "      <td>1997-11-11</td>\n",
       "      <td>Left</td>\n",
       "      <td>51842.0</td>\n",
       "      <td>632.233530</td>\n",
       "      <td>6.754862</td>\n",
       "      <td>-6.322335</td>\n",
       "      <td>3.294</td>\n",
       "      <td>-221.848397</td>\n",
       "      <td>319.360250</td>\n",
       "      <td>3.921402</td>\n",
       "      <td>1035.681313</td>\n",
       "      <td>-0.169741</td>\n",
       "      <td>-1.074303</td>\n",
       "      <td>-246.87982</td>\n",
       "      <td>-15.53</td>\n",
       "    </tr>\n",
       "    <tr>\n",
       "      <th>397</th>\n",
       "      <td>397</td>\n",
       "      <td>NaN</td>\n",
       "      <td>Eugene</td>\n",
       "      <td>Peralta</td>\n",
       "      <td>1998-11-14</td>\n",
       "      <td>Right</td>\n",
       "      <td>61982.0</td>\n",
       "      <td>292.108738</td>\n",
       "      <td>5.234530</td>\n",
       "      <td>-2.921087</td>\n",
       "      <td>4.230</td>\n",
       "      <td>-787.036050</td>\n",
       "      <td>433.259967</td>\n",
       "      <td>3.898160</td>\n",
       "      <td>1069.794110</td>\n",
       "      <td>6.495579</td>\n",
       "      <td>-2.286537</td>\n",
       "      <td>-244.01333</td>\n",
       "      <td>1.25</td>\n",
       "    </tr>\n",
       "    <tr>\n",
       "      <th>398</th>\n",
       "      <td>398</td>\n",
       "      <td>NaN</td>\n",
       "      <td>Allan</td>\n",
       "      <td>Bentley</td>\n",
       "      <td>1998-10-13</td>\n",
       "      <td>Left</td>\n",
       "      <td>56020.0</td>\n",
       "      <td>-726.418553</td>\n",
       "      <td>6.735582</td>\n",
       "      <td>7.264186</td>\n",
       "      <td>3.908</td>\n",
       "      <td>511.960762</td>\n",
       "      <td>613.391514</td>\n",
       "      <td>7.244499</td>\n",
       "      <td>1042.058804</td>\n",
       "      <td>7.554259</td>\n",
       "      <td>-0.788817</td>\n",
       "      <td>-228.24290</td>\n",
       "      <td>-18.27</td>\n",
       "    </tr>\n",
       "    <tr>\n",
       "      <th>399</th>\n",
       "      <td>399</td>\n",
       "      <td>NaN</td>\n",
       "      <td>Clarence</td>\n",
       "      <td>Pope</td>\n",
       "      <td>1999-07-26</td>\n",
       "      <td>Left</td>\n",
       "      <td>46452.0</td>\n",
       "      <td>-735.939727</td>\n",
       "      <td>7.224872</td>\n",
       "      <td>NaN</td>\n",
       "      <td>2.889</td>\n",
       "      <td>NaN</td>\n",
       "      <td>513.457470</td>\n",
       "      <td>3.095942</td>\n",
       "      <td>1035.331589</td>\n",
       "      <td>0.477165</td>\n",
       "      <td>0.975627</td>\n",
       "      <td>-230.70067</td>\n",
       "      <td>-8.78</td>\n",
       "    </tr>\n",
       "  </tbody>\n",
       "</table>\n",
       "<p>400 rows × 19 columns</p>\n",
       "</div>"
      ],
      "text/plain": [
       "     Index  Hogwarts House First Name    Last Name    Birthday Best Hand  \\\n",
       "0        0             NaN       Rico      Sargent  2001-10-06     Right   \n",
       "1        1             NaN     Tamara  Shackelford  1998-01-08      Left   \n",
       "2        2             NaN      Staci     Crandall  1998-09-15      Left   \n",
       "3        3             NaN        Dee        Gavin  2001-05-10     Right   \n",
       "4        4             NaN    Gregory    Gustafson  1999-02-01     Right   \n",
       "..     ...             ...        ...          ...         ...       ...   \n",
       "395    395             NaN      Maria      Kidwell  1999-02-06      Left   \n",
       "396    396             NaN   Frederic       Koonce  1997-11-11      Left   \n",
       "397    397             NaN     Eugene      Peralta  1998-11-14     Right   \n",
       "398    398             NaN      Allan      Bentley  1998-10-13      Left   \n",
       "399    399             NaN   Clarence         Pope  1999-07-26      Left   \n",
       "\n",
       "     Arithmancy   Astronomy  Herbology  Defense Against the Dark Arts  \\\n",
       "0       41642.0  696.096071   3.020172                      -6.960961   \n",
       "1       45352.0 -370.844655   2.965226                       3.708447   \n",
       "2       43502.0  320.303990  -6.185697                      -3.203040   \n",
       "3       61831.0  407.202928   4.962442                            NaN   \n",
       "4           NaN  288.337747   3.737656                      -2.883377   \n",
       "..          ...         ...        ...                            ...   \n",
       "395     45857.0 -554.181932  -5.647655                       5.541819   \n",
       "396     51842.0  632.233530   6.754862                      -6.322335   \n",
       "397     61982.0  292.108738   5.234530                      -2.921087   \n",
       "398     56020.0 -726.418553   6.735582                       7.264186   \n",
       "399     46452.0 -735.939727   7.224872                            NaN   \n",
       "\n",
       "     Divination  Muggle Studies  Ancient Runes  History of Magic  \\\n",
       "0         7.996     -365.151850     393.138185          4.207691   \n",
       "1         6.349      522.580486     602.853051          6.460017   \n",
       "2         4.619     -630.073207     588.071795         -5.565818   \n",
       "3           NaN     -449.179806     427.699966               NaN   \n",
       "4         4.886     -449.732166     385.712782          2.876347   \n",
       "..          ...             ...            ...               ...   \n",
       "395      -3.799     -591.764651     392.973420          7.048482   \n",
       "396       3.294     -221.848397     319.360250          3.921402   \n",
       "397       4.230     -787.036050     433.259967          3.898160   \n",
       "398       3.908      511.960762     613.391514          7.244499   \n",
       "399       2.889             NaN     513.457470          3.095942   \n",
       "\n",
       "     Transfiguration    Potions  Care of Magical Creatures     Charms  Flying  \n",
       "0        1046.742736   3.668983                   0.373853 -244.48172  -13.62  \n",
       "1        1048.053878   8.514622                   0.577432 -231.29200  -26.26  \n",
       "2         936.437358   1.850829                  -1.647150 -252.99343  200.15  \n",
       "3        1043.397718   4.656573                   1.164708 -244.01660  -11.15  \n",
       "4        1051.377936   2.750586                   0.102104 -243.99806   -7.12  \n",
       "..               ...        ...                        ...        ...     ...  \n",
       "395      1047.648405  10.408749                   1.882786 -248.39978  -94.89  \n",
       "396      1035.681313  -0.169741                  -1.074303 -246.87982  -15.53  \n",
       "397      1069.794110   6.495579                  -2.286537 -244.01333    1.25  \n",
       "398      1042.058804   7.554259                  -0.788817 -228.24290  -18.27  \n",
       "399      1035.331589   0.477165                   0.975627 -230.70067   -8.78  \n",
       "\n",
       "[400 rows x 19 columns]"
      ]
     },
     "execution_count": 15,
     "metadata": {},
     "output_type": "execute_result"
    }
   ],
   "source": [
    "df"
   ]
  },
  {
   "cell_type": "code",
   "execution_count": null,
   "metadata": {},
   "outputs": [],
   "source": []
  },
  {
   "cell_type": "code",
   "execution_count": 20,
   "metadata": {
    "scrolled": true
   },
   "outputs": [],
   "source": [
    "df_data = df.std().to_dict()\n",
    "mdf_data = mdf.std()\n",
    "for column in set(df_data) | set(mdf_data):\n",
    "    try:\n",
    "        if ((isinstance(df_data[column], (int, float, np.integer, np.float)) and\n",
    "            mdf_data[column] != df_data[column] and not np.isnan(df_data[column])\n",
    "            and abs(mdf_data[column] - df_data[column]) > 1e-6) or (\n",
    "        not isinstance(df_data[column], (int, float, np.integer, np.float))\n",
    "        and mdf_data[column] != df_data[column])):\n",
    "            print(column, mdf_data[column], df_data[column])\n",
    "    except KeyError:\n",
    "        print('err', column)"
   ]
  },
  {
   "cell_type": "code",
   "execution_count": 198,
   "metadata": {},
   "outputs": [],
   "source": [
    "from pymystem3 import Mystem"
   ]
  },
  {
   "cell_type": "code",
   "execution_count": 30,
   "metadata": {},
   "outputs": [
    {
     "data": {
      "text/plain": [
       "True"
      ]
     },
     "execution_count": 30,
     "metadata": {},
     "output_type": "execute_result"
    }
   ],
   "source": [
    "np.issubdtype(np.array([12, 13]).dtype, int)"
   ]
  },
  {
   "cell_type": "code",
   "execution_count": null,
   "metadata": {},
   "outputs": [],
   "source": [
    "m = Mystem()"
   ]
  },
  {
   "cell_type": "code",
   "execution_count": 200,
   "metadata": {},
   "outputs": [
    {
     "data": {
      "text/plain": [
       "[{'analysis': [{'lex': 'мама', 'wt': 1, 'gr': 'S,жен,од=им,ед'}],\n",
       "  'text': 'Мама'},\n",
       " {'text': ' '},\n",
       " {'analysis': [{'lex': 'мыть',\n",
       "    'wt': 0.441520999,\n",
       "    'gr': 'V,несов,пе=прош,ед,изъяв,жен'}],\n",
       "  'text': 'мыла'},\n",
       " {'text': ' '},\n",
       " {'analysis': [{'lex': 'рама', 'wt': 0.9993591156, 'gr': 'S,жен,неод=вин,ед'}],\n",
       "  'text': 'раму'},\n",
       " {'text': '. '},\n",
       " {'analysis': [{'lex': 'она', 'wt': 1, 'gr': 'SPRO,ед,3-л,жен=им'}],\n",
       "  'text': 'Она'},\n",
       " {'text': ' '},\n",
       " {'analysis': [{'lex': 'мыть',\n",
       "    'wt': 0.441520999,\n",
       "    'gr': 'V,несов,пе=прош,ед,изъяв,жен'}],\n",
       "  'text': 'мыла'},\n",
       " {'text': ' '},\n",
       " {'analysis': [{'lex': 'хорошо', 'wt': 0.0008292704217, 'gr': 'ADV=вводн'}],\n",
       "  'text': 'хорошо'},\n",
       " {'text': '\\n'}]"
      ]
     },
     "execution_count": 200,
     "metadata": {},
     "output_type": "execute_result"
    }
   ],
   "source": [
    "m.analyze('Мама мыла раму. Она мыла хорошо')"
   ]
  },
  {
   "cell_type": "code",
   "execution_count": 639,
   "metadata": {},
   "outputs": [
    {
     "data": {
      "text/plain": [
       "(-2.0749999999999997, -2.26)"
      ]
     },
     "execution_count": 639,
     "metadata": {},
     "output_type": "execute_result"
    }
   ],
   "source": [
    "i = -1\n",
    "quantile(mdf.arrays[i], q=0.5),\\\n",
    "np.quantile(mdf.arrays[i], q=0.5, interpolation='midpoint')"
   ]
  },
  {
   "cell_type": "code",
   "execution_count": 576,
   "metadata": {},
   "outputs": [
    {
     "data": {
      "text/plain": [
       "198.78"
      ]
     },
     "execution_count": 576,
     "metadata": {},
     "output_type": "execute_result"
    }
   ],
   "source": []
  },
  {
   "cell_type": "code",
   "execution_count": 640,
   "metadata": {},
   "outputs": [
    {
     "name": "stdout",
     "output_type": "stream",
     "text": [
      "[2.5, 3, 3.1, 8, 9, 10, 11]\n"
     ]
    },
    {
     "data": {
      "text/plain": [
       "(9.5, 9.5)"
      ]
     },
     "execution_count": 640,
     "metadata": {},
     "output_type": "execute_result"
    }
   ],
   "source": [
    "arr = [11, 2.5, 3.1, 3, 8, 9, 10]\n",
    "print(sorted(arr))\n",
    "q = 0.7\n",
    "quantile(arr, q=q),\\\n",
    "np.quantile(arr, q=q, interpolation='midpoint')"
   ]
  },
  {
   "cell_type": "code",
   "execution_count": 585,
   "metadata": {},
   "outputs": [
    {
     "data": {
      "text/plain": [
       "8.0"
      ]
     },
     "execution_count": 585,
     "metadata": {},
     "output_type": "execute_result"
    }
   ],
   "source": [
    "3.1 + (8.0 - 3.1)"
   ]
  },
  {
   "cell_type": "code",
   "execution_count": 579,
   "metadata": {},
   "outputs": [
    {
     "ename": "SyntaxError",
     "evalue": "cannot assign to operator (<ipython-input-579-97c61f0bdffe>, line 1)",
     "output_type": "error",
     "traceback": [
      "\u001b[0;36m  File \u001b[0;32m\"<ipython-input-579-97c61f0bdffe>\"\u001b[0;36m, line \u001b[0;32m1\u001b[0m\n\u001b[0;31m    3.1 + (8.0 - 3.1)*x=9.5\u001b[0m\n\u001b[0m    ^\u001b[0m\n\u001b[0;31mSyntaxError\u001b[0m\u001b[0;31m:\u001b[0m cannot assign to operator\n"
     ]
    }
   ],
   "source": [
    "10.0 11.0"
   ]
  },
  {
   "cell_type": "code",
   "execution_count": 583,
   "metadata": {},
   "outputs": [
    {
     "data": {
      "text/plain": [
       "1.3061224489795917"
      ]
     },
     "execution_count": 583,
     "metadata": {},
     "output_type": "execute_result"
    }
   ],
   "source": [
    "6.4/4.9"
   ]
  },
  {
   "cell_type": "code",
   "execution_count": 485,
   "metadata": {},
   "outputs": [
    {
     "data": {
      "text/plain": [
       "array([41642., 45352., 43502., 61831.,    nan, 60888., 46583., 42013.,\n",
       "       27434., 33500., 47320., 46821., 54547., 60483., 46012., 58059.,\n",
       "       40414., 54521., 37327., 46165., 68803., 52568., 10167., 74358.,\n",
       "       55346., 37040., 40696., 65263., 72647., 63929., 52616., 49238.,\n",
       "       74276., 63574., 40221., 51621., 45938., 48797., 54372., 58605.,\n",
       "       45913., 41129., 41582., 74197., 74063.,  9014., 65557., 26369.,\n",
       "       35150., 17451., 44637., 41578., 22186., 16983., 37619., 42727.,\n",
       "       38556., 61279., 29026., 37002., 43759., 70217., 50906., 46673.,\n",
       "       30996., 99744., 47335., 19600., 44162., 68534., 41725., 57714.,\n",
       "          nan, 32066., 54865., 44605., 35535.,    nan,  4536., 37200.,\n",
       "       43735., 70453., 72488., 42474., 68654., 63385., 62249., 49230.,\n",
       "       59914., 46922., 71589., 37106., 70896., 52045., 46717., 29432.,\n",
       "       23761., 72835., 38819., 79908., 51723., 41238., 59614., 51864.,\n",
       "       38150.,    nan, 57510., 33737.,    nan, 41369., 48873., 66547.,\n",
       "       13977., 26951.,    nan, 49114., 62665., 36872., 57125., 44931.,\n",
       "       73735., 71073., 38036., 49135., 53893., 67657., 27800., 63813.,\n",
       "       43656., 36849., 31333., 47148., 34109., 52506., 62934.,    nan,\n",
       "       65778., 61741., 65129., 58803., 64611., 19537., 56513., 62745.,\n",
       "       37094., 75922., 34120., 55588., 50463., 64402., 46635., 60599.,\n",
       "       46160., 48223., 54642., 68050., 33160., 35798., 21954., 41043.,\n",
       "       15477., 45214., 56217., 65980., 59848., 56953., 32456., 62390.,\n",
       "       53445., 44524., 55663., 60182., 75292.,    nan, 73866., 62602.,\n",
       "       66972., 61219., 58021., 42755., 67592., 38322., 51336., 30584.,\n",
       "       61647., 31877., 55787., 43216., 55357., 28764., 58703.,    nan,\n",
       "       59410., 40142., 63740., 55200., 76140., 67916., 46740., 55037.,\n",
       "       18270., 57631., 39681., 46334., 52507., 66607., 76876., 37371.,\n",
       "       66576., 92644., 43001., 79633., 54055., 42055., 43842., 33434.,\n",
       "       36200., 37464., 68864., 43064., 48238., 48579., 48473., 40680.,\n",
       "       38058., 47052., 25131., 36984., 40072., 32576., 45793., 52220.,\n",
       "       20471., 48079., 27792., 23061., 40193., 51040., 43498., 56145.,\n",
       "       63239., 37917., 72859., 29600., 46447., 52599., 22427., 48405.,\n",
       "       59880., 28643., 82841., 42315., 61593., 43193., 44817., 50650.,\n",
       "       60132., 25980., 31010., 71744., 41436., 67091., 39812., 63834.,\n",
       "       45308., 40620., 15137., 50883., 58782., 62720., 83660., 53451.,\n",
       "       39432., 41858., 57172., 49756., 54316., 59185., 56207.,    nan,\n",
       "          nan, 39564., 33898., 48697., 52130., 38668., 38551., 24875.,\n",
       "       50471., 25815., 37498., 58249., 44841.,    nan, 53884., 28754.,\n",
       "       43447., 59613., 44498., 48128., 59239., 57192., 35524., 58131.,\n",
       "       48306., 38288., 57198., 12871., 82041., 65575., 44345., 39443.,\n",
       "       52473., 51132., 29023., 62592., 52809., 53002., 48422., 30469.,\n",
       "       46508., 43863., 56024., 67322., 37915., 48177., 52174., 54413.,\n",
       "       50357., 31413., 58160., 51198., 46462., 79712., 71058., 69047.,\n",
       "       40398., 52494., 43656., 61812., 55728., 42388., 81777., 76972.,\n",
       "       76722., 52248., 53137., 77901., 40129., 37609., 88967., 44695.,\n",
       "       53711., 53520., 33102., 33825., 25186., 64622., 41835., 73472.,\n",
       "       56837., 46140., 59723., 76205., 45984., 51258., 48470., 38973.,\n",
       "       67545., 62824., 60037., 27141., 47339., 57751., 61356., 83884.,\n",
       "       44625., 67730., 61157., 63499., 17930., 47383., 56541., 37880.,\n",
       "       49297., 53830., 52151., 55522., 91534., 51189.,    nan, 53411.,\n",
       "       81491., 70313., 38245., 45857., 51842., 61982., 56020.])"
      ]
     },
     "execution_count": 485,
     "metadata": {},
     "output_type": "execute_result"
    }
   ],
   "source": [
    "mdf.arrays[i]"
   ]
  },
  {
   "cell_type": "code",
   "execution_count": 142,
   "metadata": {},
   "outputs": [
    {
     "data": {
      "text/plain": [
       "-3065.359225763586"
      ]
     },
     "execution_count": 142,
     "metadata": {},
     "output_type": "execute_result"
    }
   ],
   "source": [
    "mdf_data[column] - df_data[column]"
   ]
  },
  {
   "cell_type": "code",
   "execution_count": 447,
   "metadata": {},
   "outputs": [
    {
     "data": {
      "text/plain": [
       "3"
      ]
     },
     "execution_count": 447,
     "metadata": {},
     "output_type": "execute_result"
    }
   ],
   "source": [
    "math.trunc(3.99)"
   ]
  },
  {
   "cell_type": "code",
   "execution_count": 163,
   "metadata": {},
   "outputs": [
    {
     "ename": "ValueError",
     "evalue": "too many values to unpack (expected 2)",
     "output_type": "error",
     "traceback": [
      "\u001b[0;31m---------------------------------------------------------------------------\u001b[0m",
      "\u001b[0;31mValueError\u001b[0m                                Traceback (most recent call last)",
      "\u001b[0;32m<ipython-input-163-acc5ddfa442b>\u001b[0m in \u001b[0;36m<module>\u001b[0;34m\u001b[0m\n\u001b[1;32m      1\u001b[0m np.array(list(map(lambda x: float('nan') if not x else x, \n\u001b[0;32m----> 2\u001b[0;31m                   MyDataFrame(data).arrays[6])), dtype=float)\n\u001b[0m",
      "\u001b[0;32m~/PycharmProjects/ft_logistic_regression/my_frame.py\u001b[0m in \u001b[0;36m__init__\u001b[0;34m(self, data, dtypes, datetime_format)\u001b[0m\n\u001b[1;32m     73\u001b[0m         \u001b[0mself\u001b[0m\u001b[0;34m.\u001b[0m\u001b[0mdtypes\u001b[0m\u001b[0;34m.\u001b[0m\u001b[0mupdate\u001b[0m\u001b[0;34m(\u001b[0m\u001b[0;34m{\u001b[0m\u001b[0mcolumn\u001b[0m\u001b[0;34m:\u001b[0m \u001b[0;34m{\u001b[0m\u001b[0mdtype\u001b[0m\u001b[0;34m}\u001b[0m \u001b[0;32mfor\u001b[0m \u001b[0mcolumn\u001b[0m\u001b[0;34m,\u001b[0m \u001b[0mdtype\u001b[0m \u001b[0;32min\u001b[0m \u001b[0;34m(\u001b[0m\u001b[0mdtypes\u001b[0m \u001b[0;32mor\u001b[0m \u001b[0;34m{\u001b[0m\u001b[0;34m}\u001b[0m\u001b[0;34m)\u001b[0m\u001b[0;34m}\u001b[0m\u001b[0;34m)\u001b[0m\u001b[0;34m\u001b[0m\u001b[0;34m\u001b[0m\u001b[0m\n\u001b[1;32m     74\u001b[0m \u001b[0;34m\u001b[0m\u001b[0m\n\u001b[0;32m---> 75\u001b[0;31m         \u001b[0mself\u001b[0m\u001b[0;34m.\u001b[0m\u001b[0m_read_data\u001b[0m\u001b[0;34m(\u001b[0m\u001b[0mdata\u001b[0m\u001b[0;34m)\u001b[0m\u001b[0;34m\u001b[0m\u001b[0;34m\u001b[0m\u001b[0m\n\u001b[0m\u001b[1;32m     76\u001b[0m         \u001b[0mself\u001b[0m\u001b[0;34m.\u001b[0m\u001b[0m_transform_to_correct_types\u001b[0m\u001b[0;34m(\u001b[0m\u001b[0;34m)\u001b[0m\u001b[0;34m\u001b[0m\u001b[0;34m\u001b[0m\u001b[0m\n\u001b[1;32m     77\u001b[0m         \u001b[0mself\u001b[0m\u001b[0;34m.\u001b[0m\u001b[0mastype\u001b[0m\u001b[0;34m(\u001b[0m\u001b[0mself\u001b[0m\u001b[0;34m.\u001b[0m\u001b[0mdtypes\u001b[0m\u001b[0;34m)\u001b[0m\u001b[0;34m\u001b[0m\u001b[0;34m\u001b[0m\u001b[0m\n",
      "\u001b[0;32m~/PycharmProjects/ft_logistic_regression/my_frame.py\u001b[0m in \u001b[0;36m_read_data\u001b[0;34m(self, data)\u001b[0m\n\u001b[1;32m    110\u001b[0m             \u001b[0;32mexcept\u001b[0m \u001b[0mKeyError\u001b[0m\u001b[0;34m:\u001b[0m\u001b[0;34m\u001b[0m\u001b[0;34m\u001b[0m\u001b[0m\n\u001b[1;32m    111\u001b[0m                 \u001b[0;32mraise\u001b[0m \u001b[0mKeyError\u001b[0m\u001b[0;34m(\u001b[0m\u001b[0;34mf'Отсутствует признак \"{column}\" на {i}-ом объекте'\u001b[0m\u001b[0;34m)\u001b[0m\u001b[0;34m\u001b[0m\u001b[0;34m\u001b[0m\u001b[0m\n\u001b[0;32m--> 112\u001b[0;31m         self.dtypes = {column:\n\u001b[0m\u001b[1;32m    113\u001b[0m                            \u001b[0msorted\u001b[0m\u001b[0;34m(\u001b[0m\u001b[0mdtypes\u001b[0m\u001b[0;34m,\u001b[0m \u001b[0mkey\u001b[0m\u001b[0;34m=\u001b[0m\u001b[0;32mlambda\u001b[0m \u001b[0mx\u001b[0m\u001b[0;34m:\u001b[0m \u001b[0;34m{\u001b[0m\u001b[0;34m'int'\u001b[0m\u001b[0;34m:\u001b[0m \u001b[0;36m0\u001b[0m\u001b[0;34m,\u001b[0m \u001b[0;34m'float'\u001b[0m\u001b[0;34m:\u001b[0m \u001b[0;36m1\u001b[0m\u001b[0;34m,\u001b[0m \u001b[0;34m'datetime'\u001b[0m\u001b[0;34m:\u001b[0m \u001b[0;36m2\u001b[0m\u001b[0;34m,\u001b[0m \u001b[0;34m'str'\u001b[0m\u001b[0;34m:\u001b[0m \u001b[0;36m3\u001b[0m\u001b[0;34m}\u001b[0m\u001b[0;34m[\u001b[0m\u001b[0mx\u001b[0m\u001b[0;34m]\u001b[0m\u001b[0;34m)\u001b[0m\u001b[0;34m[\u001b[0m\u001b[0;36m0\u001b[0m\u001b[0;34m]\u001b[0m\u001b[0;34m\u001b[0m\u001b[0;34m\u001b[0m\u001b[0m\n\u001b[1;32m    114\u001b[0m                        for column, dtypes in self.dtypes}\n",
      "\u001b[0;32m~/PycharmProjects/ft_logistic_regression/my_frame.py\u001b[0m in \u001b[0;36m<dictcomp>\u001b[0;34m(.0)\u001b[0m\n\u001b[1;32m    112\u001b[0m         self.dtypes = {column:\n\u001b[1;32m    113\u001b[0m                            \u001b[0msorted\u001b[0m\u001b[0;34m(\u001b[0m\u001b[0mdtypes\u001b[0m\u001b[0;34m,\u001b[0m \u001b[0mkey\u001b[0m\u001b[0;34m=\u001b[0m\u001b[0;32mlambda\u001b[0m \u001b[0mx\u001b[0m\u001b[0;34m:\u001b[0m \u001b[0;34m{\u001b[0m\u001b[0;34m'int'\u001b[0m\u001b[0;34m:\u001b[0m \u001b[0;36m0\u001b[0m\u001b[0;34m,\u001b[0m \u001b[0;34m'float'\u001b[0m\u001b[0;34m:\u001b[0m \u001b[0;36m1\u001b[0m\u001b[0;34m,\u001b[0m \u001b[0;34m'datetime'\u001b[0m\u001b[0;34m:\u001b[0m \u001b[0;36m2\u001b[0m\u001b[0;34m,\u001b[0m \u001b[0;34m'str'\u001b[0m\u001b[0;34m:\u001b[0m \u001b[0;36m3\u001b[0m\u001b[0;34m}\u001b[0m\u001b[0;34m[\u001b[0m\u001b[0mx\u001b[0m\u001b[0;34m]\u001b[0m\u001b[0;34m)\u001b[0m\u001b[0;34m[\u001b[0m\u001b[0;36m0\u001b[0m\u001b[0;34m]\u001b[0m\u001b[0;34m\u001b[0m\u001b[0;34m\u001b[0m\u001b[0m\n\u001b[0;32m--> 114\u001b[0;31m                        for column, dtypes in self.dtypes}\n\u001b[0m\u001b[1;32m    115\u001b[0m         \u001b[0mself\u001b[0m\u001b[0;34m.\u001b[0m\u001b[0marrays\u001b[0m \u001b[0;34m=\u001b[0m \u001b[0marrays\u001b[0m\u001b[0;34m\u001b[0m\u001b[0;34m\u001b[0m\u001b[0m\n\u001b[1;32m    116\u001b[0m \u001b[0;34m\u001b[0m\u001b[0m\n",
      "\u001b[0;31mValueError\u001b[0m: too many values to unpack (expected 2)"
     ]
    }
   ],
   "source": [
    "\n",
    "np.array(list(map(lambda x: float('nan') if not x else x, \n",
    "                  MyDataFrame(data).arrays[6])), dtype=float)"
   ]
  },
  {
   "cell_type": "code",
   "execution_count": 179,
   "metadata": {},
   "outputs": [],
   "source": [
    "import inspect"
   ]
  },
  {
   "cell_type": "code",
   "execution_count": 193,
   "metadata": {},
   "outputs": [
    {
     "data": {
      "text/plain": [
       "True"
      ]
     },
     "execution_count": 193,
     "metadata": {},
     "output_type": "execute_result"
    }
   ],
   "source": [
    "inspect.isclass(str)"
   ]
  },
  {
   "cell_type": "code",
   "execution_count": 191,
   "metadata": {},
   "outputs": [
    {
     "data": {
      "text/plain": [
       "'int'"
      ]
     },
     "execution_count": 191,
     "metadata": {},
     "output_type": "execute_result"
    }
   ],
   "source": [
    "Dict[str, Union[Type[float], Type[int], Type[str]]]\n",
    "Dict[str, Union[str, Union[Type[float], Type[int], Type[str]]]]"
   ]
  },
  {
   "cell_type": "code",
   "execution_count": 82,
   "metadata": {},
   "outputs": [
    {
     "name": "stdout",
     "output_type": "stream",
     "text": [
      "2 1.5\n"
     ]
    }
   ],
   "source": [
    "arr = np.array([1, 2, 3, 4, 5, 6])\n",
    "\n",
    "max_indicex = arr.shape[0] - 1\n",
    "indices = q * max_indicex\n",
    "indices_below = math.floor(indices)\n",
    "indices_above = indices_below + 1 if max_indicex > indices_below else max_indicex\n",
    "weights_above = indices - indices_below\n",
    "weights_below = 1 - weights_above\n",
    "\n",
    "print(arr[indices_below] * weights_below + arr[indices_above] * weights_above,\n",
    "     np.quantile(arr, q))"
   ]
  },
  {
   "cell_type": "code",
   "execution_count": 89,
   "metadata": {},
   "outputs": [
    {
     "name": "stderr",
     "output_type": "stream",
     "text": [
      "[autoreload of utils failed: Traceback (most recent call last):\n",
      "  File \"/Users/ljonnel-/.virtualenvs/ft_logistic_regression/lib/python3.8/site-packages/IPython/extensions/autoreload.py\", line 245, in check\n",
      "    superreload(m, reload, self.old_objects)\n",
      "  File \"/Users/ljonnel-/.virtualenvs/ft_logistic_regression/lib/python3.8/site-packages/IPython/extensions/autoreload.py\", line 394, in superreload\n",
      "    module = reload(module)\n",
      "  File \"/Users/ljonnel-/.brew/Cellar/python@3.8/3.8.6/Frameworks/Python.framework/Versions/3.8/lib/python3.8/imp.py\", line 314, in reload\n",
      "    return importlib.reload(module)\n",
      "  File \"/Users/ljonnel-/.brew/Cellar/python@3.8/3.8.6/Frameworks/Python.framework/Versions/3.8/lib/python3.8/importlib/__init__.py\", line 169, in reload\n",
      "    _bootstrap._exec(spec, module)\n",
      "  File \"<frozen importlib._bootstrap>\", line 604, in _exec\n",
      "  File \"<frozen importlib._bootstrap_external>\", line 779, in exec_module\n",
      "  File \"<frozen importlib._bootstrap_external>\", line 916, in get_code\n",
      "  File \"<frozen importlib._bootstrap_external>\", line 846, in source_to_code\n",
      "  File \"<frozen importlib._bootstrap>\", line 219, in _call_with_frames_removed\n",
      "  File \"/Users/ljonnel-/PycharmProjects/ft_logistic_regression/utils.py\", line 31\n",
      "    def mmax(arr: float[]):\n",
      "                        ^\n",
      "SyntaxError: invalid syntax\n",
      "]\n"
     ]
    }
   ],
   "source": []
  },
  {
   "cell_type": "code",
   "execution_count": 20,
   "metadata": {},
   "outputs": [],
   "source": [
    "a = np.asarray([[1, 2, 3], [4, 5, 6]]).flatten()"
   ]
  },
  {
   "cell_type": "code",
   "execution_count": 24,
   "metadata": {},
   "outputs": [],
   "source": [
    "np.asanyarray?"
   ]
  },
  {
   "cell_type": "code",
   "execution_count": 46,
   "metadata": {},
   "outputs": [],
   "source": [
    "np.take?"
   ]
  },
  {
   "cell_type": "code",
   "execution_count": 43,
   "metadata": {},
   "outputs": [
    {
     "name": "stdout",
     "output_type": "stream",
     "text": [
      "Compute the q-th quantile of the data along the specified axis \n",
      "\n",
      "       versionadded:: 1 15 0\n",
      "Parameters\n",
      "    ----------a : array_likeInput array or object that can be converted to an array q : array_like of floatQuantile or sequence of quantiles to compute, which must be between0 and 1 inclusive axis : {int, tuple of int, None}, optionalAxis or axes along which the quantiles are computed  Thedefault is to compute the quantile(s) along a flattenedversion of the array out : ndarray, optionalAlternative output array in which to place the result  It musthave the same shape and buffer length as the expected output,but the type (of the output) will be cast if necessary overwrite_input : bool, optionalIf True, then allow the input array `a` to be modified by intermediatecalculations, to save memory  In this case, the contents of the input\n",
      "        `a` after this function completes is undefined interpolation : {'linear', 'lower', 'higher', 'midpoint', 'nearest'}This optional parameter specifies the interpolation method touse when the desired quantile lies between two data points\n",
      "        ``i < j``:\n",
      "\n",
      "            * linear: ``i + (j - i) * fraction``, where ``fraction``is the fractional part of the index surrounded by ``i``and ``j`` \n",
      "            * lower: ``i`` \n",
      "            * higher: ``j`` \n",
      "            * nearest: ``i`` or ``j``, whichever is nearest \n",
      "            * midpoint: ``(i + j) / 2`` keepdims : bool, optionalIf this is set to True, the axes which are reduced are left inthe result as dimensions with size one  With this option, theresult will broadcast correctly against the original array `a` \n",
      "Returns\n",
      "    -------quantile : scalar or ndarrayIf `q` is a single quantile and `axis=None`, then the resultis a scalar  If multiple quantiles are given, first axis ofthe result corresponds to the quantiles  The other axes arethe axes that remain after the reduction of `a`  If the inputcontains integers or floats smaller than ``float64``, the outputdata-type is ``float64``  Otherwise, the output data-type is thesame as that of the input  If `out` is specified, that array isreturned instead \n",
      "See Also\n",
      "    --------meanpercentile : equivalent to quantile, but with q in the range [0, 100] median : equivalent to ``quantile(   , 0 5)``nanquantile\n",
      "Notes\n",
      "    -----Given a vector ``V`` of length ``N``, the q-th quantile of\n",
      "    ``V`` is the value ``q`` of the way from the minimum to themaximum in a sorted copy of ``V``  The values and distances ofthe two nearest neighbors as well as the `interpolation` parameterwill determine the quantile if the normalized ranking does notmatch the location of ``q`` exactly  This function is the same asthe median if ``q=0 5``, the same as the minimum if ``q=0 0`` and thesame as the maximum if ``q=1 0`` \n",
      "Examples\n",
      "    --------\n",
      "    >>> a = np array([[10, 7, 4], [3, 2, 1]])\n",
      "    >>> aarray([[10,  7,  4],\n",
      "           [ 3,  2,  1]])\n",
      "    >>> np quantile(a, 0 5)3 5\n",
      "    >>> np quantile(a, 0 5, axis=0)array([6 5, 4 5, 2 5])\n",
      "    >>> np quantile(a, 0 5, axis=1)array([7 ,  2 ])\n",
      "    >>> np quantile(a, 0 5, axis=1, keepdims=True)array([[7 ],\n",
      "           [2 ]])\n",
      "    >>> m = np quantile(a, 0 5, axis=0)\n",
      "    >>> out = np zeros_like(m)\n",
      "    >>> np quantile(a, 0 5, axis=0, out=out)array([6 5, 4 5, 2 5])\n",
      "    >>> marray([6 5, 4 5, 2 5])\n",
      "    >>> b = a copy()\n",
      "    >>> np quantile(b, 0 5, axis=1, overwrite_input=True)array([7 ,  2 ])\n",
      "    >>> assert not np all(a == b)\n",
      "    \"\"\"\n"
     ]
    }
   ],
   "source": [
    "print(re.sub(r'[\\n][ ]+(?=\\w)', r'', line).replace('.',  ' '))"
   ]
  },
  {
   "cell_type": "code",
   "execution_count": 16,
   "metadata": {},
   "outputs": [],
   "source": [
    "df = pd.read_csv('./datasets/dataset_train.csv')"
   ]
  },
  {
   "cell_type": "code",
   "execution_count": 161,
   "metadata": {},
   "outputs": [
    {
     "data": {
      "text/html": [
       "<div>\n",
       "<style scoped>\n",
       "    .dataframe tbody tr th:only-of-type {\n",
       "        vertical-align: middle;\n",
       "    }\n",
       "\n",
       "    .dataframe tbody tr th {\n",
       "        vertical-align: top;\n",
       "    }\n",
       "\n",
       "    .dataframe thead th {\n",
       "        text-align: right;\n",
       "    }\n",
       "</style>\n",
       "<table border=\"1\" class=\"dataframe\">\n",
       "  <thead>\n",
       "    <tr style=\"text-align: right;\">\n",
       "      <th></th>\n",
       "      <th>Care of Magical Creatures</th>\n",
       "      <th>Potions</th>\n",
       "      <th>Divination</th>\n",
       "      <th>History of Magic</th>\n",
       "      <th>Defense Against the Dark Arts</th>\n",
       "      <th>Herbology</th>\n",
       "      <th>Charms</th>\n",
       "      <th>Transfiguration</th>\n",
       "      <th>Flying</th>\n",
       "      <th>Ancient Runes</th>\n",
       "      <th>Index</th>\n",
       "      <th>Muggle Studies</th>\n",
       "      <th>Astronomy</th>\n",
       "      <th>Arithmancy</th>\n",
       "    </tr>\n",
       "  </thead>\n",
       "  <tbody>\n",
       "    <tr>\n",
       "      <th>count</th>\n",
       "      <td>1560.000000</td>\n",
       "      <td>1570.000000</td>\n",
       "      <td>1561.000000</td>\n",
       "      <td>1557.000000</td>\n",
       "      <td>1569.000000</td>\n",
       "      <td>1567.000000</td>\n",
       "      <td>1600.000000</td>\n",
       "      <td>1566.000000</td>\n",
       "      <td>1600.000000</td>\n",
       "      <td>1565.000000</td>\n",
       "      <td>1600.00000</td>\n",
       "      <td>1565.000000</td>\n",
       "      <td>1568.000000</td>\n",
       "      <td>1566.000000</td>\n",
       "    </tr>\n",
       "    <tr>\n",
       "      <th>mean</th>\n",
       "      <td>-0.053427</td>\n",
       "      <td>5.950373</td>\n",
       "      <td>3.153910</td>\n",
       "      <td>2.963095</td>\n",
       "      <td>-0.387863</td>\n",
       "      <td>1.141020</td>\n",
       "      <td>-243.374409</td>\n",
       "      <td>1030.096946</td>\n",
       "      <td>21.958012</td>\n",
       "      <td>495.747970</td>\n",
       "      <td>799.50000</td>\n",
       "      <td>-224.589915</td>\n",
       "      <td>39.797131</td>\n",
       "      <td>49634.570243</td>\n",
       "    </tr>\n",
       "    <tr>\n",
       "      <th>std</th>\n",
       "      <td>0.971457</td>\n",
       "      <td>3.147854</td>\n",
       "      <td>4.155301</td>\n",
       "      <td>4.425775</td>\n",
       "      <td>5.212794</td>\n",
       "      <td>5.219682</td>\n",
       "      <td>8.783640</td>\n",
       "      <td>44.125116</td>\n",
       "      <td>97.631602</td>\n",
       "      <td>106.285165</td>\n",
       "      <td>462.02453</td>\n",
       "      <td>486.344840</td>\n",
       "      <td>520.298268</td>\n",
       "      <td>16679.806036</td>\n",
       "    </tr>\n",
       "    <tr>\n",
       "      <th>min</th>\n",
       "      <td>-3.313676</td>\n",
       "      <td>-4.697484</td>\n",
       "      <td>-8.727000</td>\n",
       "      <td>-8.858993</td>\n",
       "      <td>-10.162119</td>\n",
       "      <td>-10.295663</td>\n",
       "      <td>-261.048920</td>\n",
       "      <td>906.627320</td>\n",
       "      <td>-181.470000</td>\n",
       "      <td>283.869609</td>\n",
       "      <td>0.00000</td>\n",
       "      <td>-1086.496835</td>\n",
       "      <td>-966.740546</td>\n",
       "      <td>-24370.000000</td>\n",
       "    </tr>\n",
       "    <tr>\n",
       "      <th>25%</th>\n",
       "      <td>-0.671606</td>\n",
       "      <td>3.646785</td>\n",
       "      <td>3.099000</td>\n",
       "      <td>2.218653</td>\n",
       "      <td>-5.259095</td>\n",
       "      <td>-4.308182</td>\n",
       "      <td>-250.652600</td>\n",
       "      <td>1026.209993</td>\n",
       "      <td>-41.870000</td>\n",
       "      <td>397.511047</td>\n",
       "      <td>399.75000</td>\n",
       "      <td>-577.580096</td>\n",
       "      <td>-489.551387</td>\n",
       "      <td>38511.500000</td>\n",
       "    </tr>\n",
       "    <tr>\n",
       "      <th>50%</th>\n",
       "      <td>-0.044811</td>\n",
       "      <td>5.874837</td>\n",
       "      <td>4.624000</td>\n",
       "      <td>4.378176</td>\n",
       "      <td>-2.589342</td>\n",
       "      <td>3.469012</td>\n",
       "      <td>-244.867765</td>\n",
       "      <td>1045.506996</td>\n",
       "      <td>-2.515000</td>\n",
       "      <td>463.918305</td>\n",
       "      <td>799.50000</td>\n",
       "      <td>-419.164294</td>\n",
       "      <td>260.289446</td>\n",
       "      <td>49013.500000</td>\n",
       "    </tr>\n",
       "    <tr>\n",
       "      <th>75%</th>\n",
       "      <td>0.589919</td>\n",
       "      <td>8.248173</td>\n",
       "      <td>5.667000</td>\n",
       "      <td>5.825242</td>\n",
       "      <td>4.904680</td>\n",
       "      <td>5.419183</td>\n",
       "      <td>-232.552305</td>\n",
       "      <td>1058.436410</td>\n",
       "      <td>50.560000</td>\n",
       "      <td>597.492230</td>\n",
       "      <td>1199.25000</td>\n",
       "      <td>254.994857</td>\n",
       "      <td>524.771949</td>\n",
       "      <td>60811.250000</td>\n",
       "    </tr>\n",
       "    <tr>\n",
       "      <th>max</th>\n",
       "      <td>3.056546</td>\n",
       "      <td>13.536762</td>\n",
       "      <td>10.032000</td>\n",
       "      <td>11.889713</td>\n",
       "      <td>9.667405</td>\n",
       "      <td>11.612895</td>\n",
       "      <td>-225.428140</td>\n",
       "      <td>1098.958201</td>\n",
       "      <td>279.070000</td>\n",
       "      <td>745.396220</td>\n",
       "      <td>1599.00000</td>\n",
       "      <td>1092.388611</td>\n",
       "      <td>1016.211940</td>\n",
       "      <td>104956.000000</td>\n",
       "    </tr>\n",
       "  </tbody>\n",
       "</table>\n",
       "</div>"
      ],
      "text/plain": [
       "       Care of Magical Creatures      Potions   Divination  History of Magic  \\\n",
       "count                1560.000000  1570.000000  1561.000000       1557.000000   \n",
       "mean                   -0.053427     5.950373     3.153910          2.963095   \n",
       "std                     0.971457     3.147854     4.155301          4.425775   \n",
       "min                    -3.313676    -4.697484    -8.727000         -8.858993   \n",
       "25%                    -0.671606     3.646785     3.099000          2.218653   \n",
       "50%                    -0.044811     5.874837     4.624000          4.378176   \n",
       "75%                     0.589919     8.248173     5.667000          5.825242   \n",
       "max                     3.056546    13.536762    10.032000         11.889713   \n",
       "\n",
       "       Defense Against the Dark Arts    Herbology       Charms  \\\n",
       "count                    1569.000000  1567.000000  1600.000000   \n",
       "mean                       -0.387863     1.141020  -243.374409   \n",
       "std                         5.212794     5.219682     8.783640   \n",
       "min                       -10.162119   -10.295663  -261.048920   \n",
       "25%                        -5.259095    -4.308182  -250.652600   \n",
       "50%                        -2.589342     3.469012  -244.867765   \n",
       "75%                         4.904680     5.419183  -232.552305   \n",
       "max                         9.667405    11.612895  -225.428140   \n",
       "\n",
       "       Transfiguration       Flying  Ancient Runes       Index  \\\n",
       "count      1566.000000  1600.000000    1565.000000  1600.00000   \n",
       "mean       1030.096946    21.958012     495.747970   799.50000   \n",
       "std          44.125116    97.631602     106.285165   462.02453   \n",
       "min         906.627320  -181.470000     283.869609     0.00000   \n",
       "25%        1026.209993   -41.870000     397.511047   399.75000   \n",
       "50%        1045.506996    -2.515000     463.918305   799.50000   \n",
       "75%        1058.436410    50.560000     597.492230  1199.25000   \n",
       "max        1098.958201   279.070000     745.396220  1599.00000   \n",
       "\n",
       "       Muggle Studies    Astronomy     Arithmancy  \n",
       "count     1565.000000  1568.000000    1566.000000  \n",
       "mean      -224.589915    39.797131   49634.570243  \n",
       "std        486.344840   520.298268   16679.806036  \n",
       "min      -1086.496835  -966.740546  -24370.000000  \n",
       "25%       -577.580096  -489.551387   38511.500000  \n",
       "50%       -419.164294   260.289446   49013.500000  \n",
       "75%        254.994857   524.771949   60811.250000  \n",
       "max       1092.388611  1016.211940  104956.000000  "
      ]
     },
     "execution_count": 161,
     "metadata": {},
     "output_type": "execute_result"
    }
   ],
   "source": [
    "df.describe().T.sort_values('std').T"
   ]
  },
  {
   "cell_type": "code",
   "execution_count": 20,
   "metadata": {},
   "outputs": [],
   "source": [
    "import seaborn as sns\n",
    "from matplotlib import pyplot as plt"
   ]
  },
  {
   "cell_type": "code",
   "execution_count": 17,
   "metadata": {},
   "outputs": [],
   "source": [
    "df = df.drop(['Index', 'First Name', 'Last Name', 'Birthday', 'Best Hand'],\n",
    "       axis=1)"
   ]
  },
  {
   "cell_type": "code",
   "execution_count": 23,
   "metadata": {},
   "outputs": [
    {
     "data": {
      "text/html": [
       "<div>\n",
       "<style scoped>\n",
       "    .dataframe tbody tr th:only-of-type {\n",
       "        vertical-align: middle;\n",
       "    }\n",
       "\n",
       "    .dataframe tbody tr th {\n",
       "        vertical-align: top;\n",
       "    }\n",
       "\n",
       "    .dataframe thead th {\n",
       "        text-align: right;\n",
       "    }\n",
       "</style>\n",
       "<table border=\"1\" class=\"dataframe\">\n",
       "  <thead>\n",
       "    <tr style=\"text-align: right;\">\n",
       "      <th></th>\n",
       "      <th>Hogwarts House</th>\n",
       "      <th>Arithmancy</th>\n",
       "      <th>Astronomy</th>\n",
       "      <th>Herbology</th>\n",
       "      <th>Defense Against the Dark Arts</th>\n",
       "      <th>Divination</th>\n",
       "      <th>Muggle Studies</th>\n",
       "      <th>Ancient Runes</th>\n",
       "      <th>History of Magic</th>\n",
       "      <th>Transfiguration</th>\n",
       "      <th>Potions</th>\n",
       "      <th>Care of Magical Creatures</th>\n",
       "      <th>Charms</th>\n",
       "      <th>Flying</th>\n",
       "    </tr>\n",
       "  </thead>\n",
       "  <tbody>\n",
       "    <tr>\n",
       "      <th>0</th>\n",
       "      <td>Ravenclaw</td>\n",
       "      <td>58384.0</td>\n",
       "      <td>-487.886086</td>\n",
       "      <td>5.727180</td>\n",
       "      <td>4.878861</td>\n",
       "      <td>4.722</td>\n",
       "      <td>272.035831</td>\n",
       "      <td>532.484226</td>\n",
       "      <td>5.231058</td>\n",
       "      <td>1039.788281</td>\n",
       "      <td>3.790369</td>\n",
       "      <td>0.715939</td>\n",
       "      <td>-232.79405</td>\n",
       "      <td>-26.89</td>\n",
       "    </tr>\n",
       "    <tr>\n",
       "      <th>1</th>\n",
       "      <td>Slytherin</td>\n",
       "      <td>67239.0</td>\n",
       "      <td>-552.060507</td>\n",
       "      <td>-5.987446</td>\n",
       "      <td>5.520605</td>\n",
       "      <td>-5.612</td>\n",
       "      <td>-487.340557</td>\n",
       "      <td>367.760303</td>\n",
       "      <td>4.107170</td>\n",
       "      <td>1058.944592</td>\n",
       "      <td>7.248742</td>\n",
       "      <td>0.091674</td>\n",
       "      <td>-252.18425</td>\n",
       "      <td>-113.45</td>\n",
       "    </tr>\n",
       "    <tr>\n",
       "      <th>2</th>\n",
       "      <td>Ravenclaw</td>\n",
       "      <td>23702.0</td>\n",
       "      <td>-366.076117</td>\n",
       "      <td>7.725017</td>\n",
       "      <td>3.660761</td>\n",
       "      <td>6.140</td>\n",
       "      <td>664.893521</td>\n",
       "      <td>602.585284</td>\n",
       "      <td>3.555579</td>\n",
       "      <td>1088.088348</td>\n",
       "      <td>8.728531</td>\n",
       "      <td>-0.515327</td>\n",
       "      <td>-227.34265</td>\n",
       "      <td>30.42</td>\n",
       "    </tr>\n",
       "    <tr>\n",
       "      <th>3</th>\n",
       "      <td>Gryffindor</td>\n",
       "      <td>32667.0</td>\n",
       "      <td>697.742809</td>\n",
       "      <td>-6.497214</td>\n",
       "      <td>-6.977428</td>\n",
       "      <td>4.026</td>\n",
       "      <td>-537.001128</td>\n",
       "      <td>523.982133</td>\n",
       "      <td>-4.809637</td>\n",
       "      <td>920.391449</td>\n",
       "      <td>0.821911</td>\n",
       "      <td>-0.014040</td>\n",
       "      <td>-256.84675</td>\n",
       "      <td>200.64</td>\n",
       "    </tr>\n",
       "    <tr>\n",
       "      <th>4</th>\n",
       "      <td>Gryffindor</td>\n",
       "      <td>60158.0</td>\n",
       "      <td>436.775204</td>\n",
       "      <td>-7.820623</td>\n",
       "      <td>NaN</td>\n",
       "      <td>2.236</td>\n",
       "      <td>-444.262537</td>\n",
       "      <td>599.324514</td>\n",
       "      <td>-3.444377</td>\n",
       "      <td>937.434724</td>\n",
       "      <td>4.311066</td>\n",
       "      <td>-0.264070</td>\n",
       "      <td>-256.38730</td>\n",
       "      <td>157.98</td>\n",
       "    </tr>\n",
       "    <tr>\n",
       "      <th>...</th>\n",
       "      <td>...</td>\n",
       "      <td>...</td>\n",
       "      <td>...</td>\n",
       "      <td>...</td>\n",
       "      <td>...</td>\n",
       "      <td>...</td>\n",
       "      <td>...</td>\n",
       "      <td>...</td>\n",
       "      <td>...</td>\n",
       "      <td>...</td>\n",
       "      <td>...</td>\n",
       "      <td>...</td>\n",
       "      <td>...</td>\n",
       "      <td>...</td>\n",
       "    </tr>\n",
       "    <tr>\n",
       "      <th>1595</th>\n",
       "      <td>Gryffindor</td>\n",
       "      <td>49009.0</td>\n",
       "      <td>354.280086</td>\n",
       "      <td>-4.541837</td>\n",
       "      <td>-3.542801</td>\n",
       "      <td>5.702</td>\n",
       "      <td>-497.235066</td>\n",
       "      <td>618.220213</td>\n",
       "      <td>-5.231721</td>\n",
       "      <td>964.219853</td>\n",
       "      <td>3.389086</td>\n",
       "      <td>-0.649983</td>\n",
       "      <td>-250.39401</td>\n",
       "      <td>185.83</td>\n",
       "    </tr>\n",
       "    <tr>\n",
       "      <th>1596</th>\n",
       "      <td>Slytherin</td>\n",
       "      <td>63296.0</td>\n",
       "      <td>367.531174</td>\n",
       "      <td>6.061064</td>\n",
       "      <td>-3.675312</td>\n",
       "      <td>1.757</td>\n",
       "      <td>-643.271092</td>\n",
       "      <td>445.827565</td>\n",
       "      <td>2.238112</td>\n",
       "      <td>1056.147366</td>\n",
       "      <td>5.825263</td>\n",
       "      <td>-0.333962</td>\n",
       "      <td>-246.42719</td>\n",
       "      <td>44.80</td>\n",
       "    </tr>\n",
       "    <tr>\n",
       "      <th>1597</th>\n",
       "      <td>Gryffindor</td>\n",
       "      <td>63905.0</td>\n",
       "      <td>544.018925</td>\n",
       "      <td>-3.203269</td>\n",
       "      <td>-5.440189</td>\n",
       "      <td>6.065</td>\n",
       "      <td>-385.150457</td>\n",
       "      <td>635.211486</td>\n",
       "      <td>-5.984257</td>\n",
       "      <td>953.866685</td>\n",
       "      <td>1.709808</td>\n",
       "      <td>0.071569</td>\n",
       "      <td>-251.63679</td>\n",
       "      <td>198.47</td>\n",
       "    </tr>\n",
       "    <tr>\n",
       "      <th>1598</th>\n",
       "      <td>Hufflepuff</td>\n",
       "      <td>82713.0</td>\n",
       "      <td>453.676219</td>\n",
       "      <td>3.442831</td>\n",
       "      <td>-4.536762</td>\n",
       "      <td>6.738</td>\n",
       "      <td>-831.741123</td>\n",
       "      <td>383.444937</td>\n",
       "      <td>3.813111</td>\n",
       "      <td>1087.949205</td>\n",
       "      <td>3.904100</td>\n",
       "      <td>-0.531875</td>\n",
       "      <td>-246.19072</td>\n",
       "      <td>-76.81</td>\n",
       "    </tr>\n",
       "    <tr>\n",
       "      <th>1599</th>\n",
       "      <td>Hufflepuff</td>\n",
       "      <td>48639.0</td>\n",
       "      <td>688.911989</td>\n",
       "      <td>5.421046</td>\n",
       "      <td>-6.889120</td>\n",
       "      <td>6.593</td>\n",
       "      <td>-234.207911</td>\n",
       "      <td>339.775154</td>\n",
       "      <td>7.208415</td>\n",
       "      <td>1034.928004</td>\n",
       "      <td>2.052215</td>\n",
       "      <td>0.150532</td>\n",
       "      <td>-244.02063</td>\n",
       "      <td>-54.77</td>\n",
       "    </tr>\n",
       "  </tbody>\n",
       "</table>\n",
       "<p>1600 rows × 14 columns</p>\n",
       "</div>"
      ],
      "text/plain": [
       "     Hogwarts House  Arithmancy   Astronomy  Herbology  \\\n",
       "0         Ravenclaw     58384.0 -487.886086   5.727180   \n",
       "1         Slytherin     67239.0 -552.060507  -5.987446   \n",
       "2         Ravenclaw     23702.0 -366.076117   7.725017   \n",
       "3        Gryffindor     32667.0  697.742809  -6.497214   \n",
       "4        Gryffindor     60158.0  436.775204  -7.820623   \n",
       "...             ...         ...         ...        ...   \n",
       "1595     Gryffindor     49009.0  354.280086  -4.541837   \n",
       "1596      Slytherin     63296.0  367.531174   6.061064   \n",
       "1597     Gryffindor     63905.0  544.018925  -3.203269   \n",
       "1598     Hufflepuff     82713.0  453.676219   3.442831   \n",
       "1599     Hufflepuff     48639.0  688.911989   5.421046   \n",
       "\n",
       "      Defense Against the Dark Arts  Divination  Muggle Studies  \\\n",
       "0                          4.878861       4.722      272.035831   \n",
       "1                          5.520605      -5.612     -487.340557   \n",
       "2                          3.660761       6.140      664.893521   \n",
       "3                         -6.977428       4.026     -537.001128   \n",
       "4                               NaN       2.236     -444.262537   \n",
       "...                             ...         ...             ...   \n",
       "1595                      -3.542801       5.702     -497.235066   \n",
       "1596                      -3.675312       1.757     -643.271092   \n",
       "1597                      -5.440189       6.065     -385.150457   \n",
       "1598                      -4.536762       6.738     -831.741123   \n",
       "1599                      -6.889120       6.593     -234.207911   \n",
       "\n",
       "      Ancient Runes  History of Magic  Transfiguration   Potions  \\\n",
       "0        532.484226          5.231058      1039.788281  3.790369   \n",
       "1        367.760303          4.107170      1058.944592  7.248742   \n",
       "2        602.585284          3.555579      1088.088348  8.728531   \n",
       "3        523.982133         -4.809637       920.391449  0.821911   \n",
       "4        599.324514         -3.444377       937.434724  4.311066   \n",
       "...             ...               ...              ...       ...   \n",
       "1595     618.220213         -5.231721       964.219853  3.389086   \n",
       "1596     445.827565          2.238112      1056.147366  5.825263   \n",
       "1597     635.211486         -5.984257       953.866685  1.709808   \n",
       "1598     383.444937          3.813111      1087.949205  3.904100   \n",
       "1599     339.775154          7.208415      1034.928004  2.052215   \n",
       "\n",
       "      Care of Magical Creatures     Charms  Flying  \n",
       "0                      0.715939 -232.79405  -26.89  \n",
       "1                      0.091674 -252.18425 -113.45  \n",
       "2                     -0.515327 -227.34265   30.42  \n",
       "3                     -0.014040 -256.84675  200.64  \n",
       "4                     -0.264070 -256.38730  157.98  \n",
       "...                         ...        ...     ...  \n",
       "1595                  -0.649983 -250.39401  185.83  \n",
       "1596                  -0.333962 -246.42719   44.80  \n",
       "1597                   0.071569 -251.63679  198.47  \n",
       "1598                  -0.531875 -246.19072  -76.81  \n",
       "1599                   0.150532 -244.02063  -54.77  \n",
       "\n",
       "[1600 rows x 14 columns]"
      ]
     },
     "execution_count": 23,
     "metadata": {},
     "output_type": "execute_result"
    }
   ],
   "source": [
    "df"
   ]
  },
  {
   "cell_type": "code",
   "execution_count": 33,
   "metadata": {},
   "outputs": [
    {
     "data": {
      "text/plain": [
       "1600"
      ]
     },
     "execution_count": 33,
     "metadata": {},
     "output_type": "execute_result"
    }
   ],
   "source": [
    "len(df)"
   ]
  },
  {
   "cell_type": "code",
   "execution_count": 32,
   "metadata": {},
   "outputs": [
    {
     "data": {
      "text/plain": [
       "<seaborn.axisgrid.PairGrid at 0x133d81ac0>"
      ]
     },
     "execution_count": 32,
     "metadata": {},
     "output_type": "execute_result"
    },
    {
     "data": {
      "image/png": "[encoded data removed]",
      "text/plain": [
       "<Figure size 360x360 with 6 Axes>"
      ]
     },
     "metadata": {
      "needs_background": "light"
     },
     "output_type": "display_data"
    }
   ],
   "source": [
    "sns.pairplot(df, vars=['Arithmancy', 'Astronomy'])\n",
    "\n",
    "\n"
   ]
  },
  {
   "cell_type": "code",
   "execution_count": 27,
   "metadata": {},
   "outputs": [
    {
     "name": "stderr",
     "output_type": "stream",
     "text": [
      "/Users/ljonnel-/.virtualenvs/ft_logistic_regression/lib/python3.8/site-packages/seaborn/_decorators.py:36: FutureWarning: Pass the following variables as keyword args: x, y. From version 0.12, the only valid positional argument will be `data`, and passing other arguments without an explicit keyword will result in an error or misinterpretation.\n",
      "  warnings.warn(\n"
     ]
    },
    {
     "data": {
      "text/plain": [
       "<AxesSubplot:xlabel='Astronomy', ylabel='Defense Against the Dark Arts'>"
      ]
     },
     "execution_count": 27,
     "metadata": {},
     "output_type": "execute_result"
    },
    {
     "data": {
      "image/png": "[encoded data removed]",
      "text/plain": [
       "<Figure size 432x288 with 1 Axes>"
      ]
     },
     "metadata": {
      "needs_background": "light"
     },
     "output_type": "display_data"
    }
   ],
   "source": [
    "sns.scatterplot(df['Astronomy'], df['Defense Against the Dark Arts'])"
   ]
  },
  {
   "cell_type": "code",
   "execution_count": 25,
   "metadata": {},
   "outputs": [
    {
     "data": {
      "text/plain": [
       "Index(['Hogwarts House', 'Arithmancy', 'Astronomy', 'Herbology',\n",
       "       'Defense Against the Dark Arts', 'Divination', 'Muggle Studies',\n",
       "       'Ancient Runes', 'History of Magic', 'Transfiguration', 'Potions',\n",
       "       'Care of Magical Creatures', 'Charms', 'Flying'],\n",
       "      dtype='object')"
      ]
     },
     "execution_count": 25,
     "metadata": {},
     "output_type": "execute_result"
    }
   ],
   "source": [
    "df.columns"
   ]
  },
  {
   "cell_type": "code",
   "execution_count": 164,
   "metadata": {},
   "outputs": [],
   "source": [
    "from sklearn.preprocessing import StandardScaler"
   ]
  },
  {
   "cell_type": "code",
   "execution_count": 106,
   "metadata": {},
   "outputs": [],
   "source": [
    "df = pd.DataFrame(StandardScaler().fit_transform(df), index=df.index, columns=df.columns)"
   ]
  },
  {
   "cell_type": "code",
   "execution_count": 165,
   "metadata": {},
   "outputs": [
    {
     "data": {
      "text/html": [
       "<div>\n",
       "<style scoped>\n",
       "    .dataframe tbody tr th:only-of-type {\n",
       "        vertical-align: middle;\n",
       "    }\n",
       "\n",
       "    .dataframe tbody tr th {\n",
       "        vertical-align: top;\n",
       "    }\n",
       "\n",
       "    .dataframe thead th {\n",
       "        text-align: right;\n",
       "    }\n",
       "</style>\n",
       "<table border=\"1\" class=\"dataframe\">\n",
       "  <thead>\n",
       "    <tr style=\"text-align: right;\">\n",
       "      <th></th>\n",
       "      <th>Hogwarts House</th>\n",
       "      <th>Arithmancy</th>\n",
       "      <th>Astronomy</th>\n",
       "      <th>Herbology</th>\n",
       "      <th>Defense Against the Dark Arts</th>\n",
       "      <th>Divination</th>\n",
       "      <th>Muggle Studies</th>\n",
       "      <th>Ancient Runes</th>\n",
       "      <th>History of Magic</th>\n",
       "      <th>Transfiguration</th>\n",
       "      <th>Potions</th>\n",
       "      <th>Care of Magical Creatures</th>\n",
       "      <th>Charms</th>\n",
       "      <th>Flying</th>\n",
       "    </tr>\n",
       "  </thead>\n",
       "  <tbody>\n",
       "    <tr>\n",
       "      <th>0</th>\n",
       "      <td>Ravenclaw</td>\n",
       "      <td>58384.0</td>\n",
       "      <td>-487.886086</td>\n",
       "      <td>5.727180</td>\n",
       "      <td>4.878861</td>\n",
       "      <td>4.722</td>\n",
       "      <td>272.035831</td>\n",
       "      <td>532.484226</td>\n",
       "      <td>5.231058</td>\n",
       "      <td>1039.788281</td>\n",
       "      <td>3.790369</td>\n",
       "      <td>0.715939</td>\n",
       "      <td>-232.79405</td>\n",
       "      <td>-26.89</td>\n",
       "    </tr>\n",
       "    <tr>\n",
       "      <th>1</th>\n",
       "      <td>Slytherin</td>\n",
       "      <td>67239.0</td>\n",
       "      <td>-552.060507</td>\n",
       "      <td>-5.987446</td>\n",
       "      <td>5.520605</td>\n",
       "      <td>-5.612</td>\n",
       "      <td>-487.340557</td>\n",
       "      <td>367.760303</td>\n",
       "      <td>4.107170</td>\n",
       "      <td>1058.944592</td>\n",
       "      <td>7.248742</td>\n",
       "      <td>0.091674</td>\n",
       "      <td>-252.18425</td>\n",
       "      <td>-113.45</td>\n",
       "    </tr>\n",
       "    <tr>\n",
       "      <th>2</th>\n",
       "      <td>Ravenclaw</td>\n",
       "      <td>23702.0</td>\n",
       "      <td>-366.076117</td>\n",
       "      <td>7.725017</td>\n",
       "      <td>3.660761</td>\n",
       "      <td>6.140</td>\n",
       "      <td>664.893521</td>\n",
       "      <td>602.585284</td>\n",
       "      <td>3.555579</td>\n",
       "      <td>1088.088348</td>\n",
       "      <td>8.728531</td>\n",
       "      <td>-0.515327</td>\n",
       "      <td>-227.34265</td>\n",
       "      <td>30.42</td>\n",
       "    </tr>\n",
       "    <tr>\n",
       "      <th>3</th>\n",
       "      <td>Gryffindor</td>\n",
       "      <td>32667.0</td>\n",
       "      <td>697.742809</td>\n",
       "      <td>-6.497214</td>\n",
       "      <td>-6.977428</td>\n",
       "      <td>4.026</td>\n",
       "      <td>-537.001128</td>\n",
       "      <td>523.982133</td>\n",
       "      <td>-4.809637</td>\n",
       "      <td>920.391449</td>\n",
       "      <td>0.821911</td>\n",
       "      <td>-0.014040</td>\n",
       "      <td>-256.84675</td>\n",
       "      <td>200.64</td>\n",
       "    </tr>\n",
       "    <tr>\n",
       "      <th>4</th>\n",
       "      <td>Gryffindor</td>\n",
       "      <td>60158.0</td>\n",
       "      <td>436.775204</td>\n",
       "      <td>-7.820623</td>\n",
       "      <td>NaN</td>\n",
       "      <td>2.236</td>\n",
       "      <td>-444.262537</td>\n",
       "      <td>599.324514</td>\n",
       "      <td>-3.444377</td>\n",
       "      <td>937.434724</td>\n",
       "      <td>4.311066</td>\n",
       "      <td>-0.264070</td>\n",
       "      <td>-256.38730</td>\n",
       "      <td>157.98</td>\n",
       "    </tr>\n",
       "    <tr>\n",
       "      <th>...</th>\n",
       "      <td>...</td>\n",
       "      <td>...</td>\n",
       "      <td>...</td>\n",
       "      <td>...</td>\n",
       "      <td>...</td>\n",
       "      <td>...</td>\n",
       "      <td>...</td>\n",
       "      <td>...</td>\n",
       "      <td>...</td>\n",
       "      <td>...</td>\n",
       "      <td>...</td>\n",
       "      <td>...</td>\n",
       "      <td>...</td>\n",
       "      <td>...</td>\n",
       "    </tr>\n",
       "    <tr>\n",
       "      <th>1595</th>\n",
       "      <td>Gryffindor</td>\n",
       "      <td>49009.0</td>\n",
       "      <td>354.280086</td>\n",
       "      <td>-4.541837</td>\n",
       "      <td>-3.542801</td>\n",
       "      <td>5.702</td>\n",
       "      <td>-497.235066</td>\n",
       "      <td>618.220213</td>\n",
       "      <td>-5.231721</td>\n",
       "      <td>964.219853</td>\n",
       "      <td>3.389086</td>\n",
       "      <td>-0.649983</td>\n",
       "      <td>-250.39401</td>\n",
       "      <td>185.83</td>\n",
       "    </tr>\n",
       "    <tr>\n",
       "      <th>1596</th>\n",
       "      <td>Slytherin</td>\n",
       "      <td>63296.0</td>\n",
       "      <td>367.531174</td>\n",
       "      <td>6.061064</td>\n",
       "      <td>-3.675312</td>\n",
       "      <td>1.757</td>\n",
       "      <td>-643.271092</td>\n",
       "      <td>445.827565</td>\n",
       "      <td>2.238112</td>\n",
       "      <td>1056.147366</td>\n",
       "      <td>5.825263</td>\n",
       "      <td>-0.333962</td>\n",
       "      <td>-246.42719</td>\n",
       "      <td>44.80</td>\n",
       "    </tr>\n",
       "    <tr>\n",
       "      <th>1597</th>\n",
       "      <td>Gryffindor</td>\n",
       "      <td>63905.0</td>\n",
       "      <td>544.018925</td>\n",
       "      <td>-3.203269</td>\n",
       "      <td>-5.440189</td>\n",
       "      <td>6.065</td>\n",
       "      <td>-385.150457</td>\n",
       "      <td>635.211486</td>\n",
       "      <td>-5.984257</td>\n",
       "      <td>953.866685</td>\n",
       "      <td>1.709808</td>\n",
       "      <td>0.071569</td>\n",
       "      <td>-251.63679</td>\n",
       "      <td>198.47</td>\n",
       "    </tr>\n",
       "    <tr>\n",
       "      <th>1598</th>\n",
       "      <td>Hufflepuff</td>\n",
       "      <td>82713.0</td>\n",
       "      <td>453.676219</td>\n",
       "      <td>3.442831</td>\n",
       "      <td>-4.536762</td>\n",
       "      <td>6.738</td>\n",
       "      <td>-831.741123</td>\n",
       "      <td>383.444937</td>\n",
       "      <td>3.813111</td>\n",
       "      <td>1087.949205</td>\n",
       "      <td>3.904100</td>\n",
       "      <td>-0.531875</td>\n",
       "      <td>-246.19072</td>\n",
       "      <td>-76.81</td>\n",
       "    </tr>\n",
       "    <tr>\n",
       "      <th>1599</th>\n",
       "      <td>Hufflepuff</td>\n",
       "      <td>48639.0</td>\n",
       "      <td>688.911989</td>\n",
       "      <td>5.421046</td>\n",
       "      <td>-6.889120</td>\n",
       "      <td>6.593</td>\n",
       "      <td>-234.207911</td>\n",
       "      <td>339.775154</td>\n",
       "      <td>7.208415</td>\n",
       "      <td>1034.928004</td>\n",
       "      <td>2.052215</td>\n",
       "      <td>0.150532</td>\n",
       "      <td>-244.02063</td>\n",
       "      <td>-54.77</td>\n",
       "    </tr>\n",
       "  </tbody>\n",
       "</table>\n",
       "<p>1600 rows × 14 columns</p>\n",
       "</div>"
      ],
      "text/plain": [
       "     Hogwarts House  Arithmancy   Astronomy  Herbology  \\\n",
       "0         Ravenclaw     58384.0 -487.886086   5.727180   \n",
       "1         Slytherin     67239.0 -552.060507  -5.987446   \n",
       "2         Ravenclaw     23702.0 -366.076117   7.725017   \n",
       "3        Gryffindor     32667.0  697.742809  -6.497214   \n",
       "4        Gryffindor     60158.0  436.775204  -7.820623   \n",
       "...             ...         ...         ...        ...   \n",
       "1595     Gryffindor     49009.0  354.280086  -4.541837   \n",
       "1596      Slytherin     63296.0  367.531174   6.061064   \n",
       "1597     Gryffindor     63905.0  544.018925  -3.203269   \n",
       "1598     Hufflepuff     82713.0  453.676219   3.442831   \n",
       "1599     Hufflepuff     48639.0  688.911989   5.421046   \n",
       "\n",
       "      Defense Against the Dark Arts  Divination  Muggle Studies  \\\n",
       "0                          4.878861       4.722      272.035831   \n",
       "1                          5.520605      -5.612     -487.340557   \n",
       "2                          3.660761       6.140      664.893521   \n",
       "3                         -6.977428       4.026     -537.001128   \n",
       "4                               NaN       2.236     -444.262537   \n",
       "...                             ...         ...             ...   \n",
       "1595                      -3.542801       5.702     -497.235066   \n",
       "1596                      -3.675312       1.757     -643.271092   \n",
       "1597                      -5.440189       6.065     -385.150457   \n",
       "1598                      -4.536762       6.738     -831.741123   \n",
       "1599                      -6.889120       6.593     -234.207911   \n",
       "\n",
       "      Ancient Runes  History of Magic  Transfiguration   Potions  \\\n",
       "0        532.484226          5.231058      1039.788281  3.790369   \n",
       "1        367.760303          4.107170      1058.944592  7.248742   \n",
       "2        602.585284          3.555579      1088.088348  8.728531   \n",
       "3        523.982133         -4.809637       920.391449  0.821911   \n",
       "4        599.324514         -3.444377       937.434724  4.311066   \n",
       "...             ...               ...              ...       ...   \n",
       "1595     618.220213         -5.231721       964.219853  3.389086   \n",
       "1596     445.827565          2.238112      1056.147366  5.825263   \n",
       "1597     635.211486         -5.984257       953.866685  1.709808   \n",
       "1598     383.444937          3.813111      1087.949205  3.904100   \n",
       "1599     339.775154          7.208415      1034.928004  2.052215   \n",
       "\n",
       "      Care of Magical Creatures     Charms  Flying  \n",
       "0                      0.715939 -232.79405  -26.89  \n",
       "1                      0.091674 -252.18425 -113.45  \n",
       "2                     -0.515327 -227.34265   30.42  \n",
       "3                     -0.014040 -256.84675  200.64  \n",
       "4                     -0.264070 -256.38730  157.98  \n",
       "...                         ...        ...     ...  \n",
       "1595                  -0.649983 -250.39401  185.83  \n",
       "1596                  -0.333962 -246.42719   44.80  \n",
       "1597                   0.071569 -251.63679  198.47  \n",
       "1598                  -0.531875 -246.19072  -76.81  \n",
       "1599                   0.150532 -244.02063  -54.77  \n",
       "\n",
       "[1600 rows x 14 columns]"
      ]
     },
     "execution_count": 165,
     "metadata": {},
     "output_type": "execute_result"
    }
   ],
   "source": [
    "df"
   ]
  },
  {
   "cell_type": "code",
   "execution_count": 179,
   "metadata": {},
   "outputs": [
    {
     "data": {
      "text/plain": [
       "array([<AxesSubplot:>, <AxesSubplot:>, <AxesSubplot:>, <AxesSubplot:>,\n",
       "       <AxesSubplot:>, <AxesSubplot:>], dtype=object)"
      ]
     },
     "execution_count": 179,
     "metadata": {},
     "output_type": "execute_result"
    }
   ],
   "source": [
    "axs"
   ]
  },
  {
   "cell_type": "code",
   "execution_count": 198,
   "metadata": {},
   "outputs": [
    {
     "data": {
      "text/plain": [
       "3.7416573867739413"
      ]
     },
     "execution_count": 198,
     "metadata": {},
     "output_type": "execute_result"
    }
   ],
   "source": [
    "len(df.columns)**0.5"
   ]
  },
  {
   "cell_type": "code",
   "execution_count": 200,
   "metadata": {},
   "outputs": [
    {
     "data": {
      "text/plain": [
       "Index(['Arithmancy', 'Astronomy', 'Herbology', 'Defense Against the Dark Arts',\n",
       "       'Divination', 'Muggle Studies', 'Ancient Runes', 'History of Magic',\n",
       "       'Transfiguration', 'Potions', 'Care of Magical Creatures', 'Charms',\n",
       "       'Flying'],\n",
       "      dtype='object')"
      ]
     },
     "execution_count": 200,
     "metadata": {},
     "output_type": "execute_result"
    }
   ],
   "source": []
  },
  {
   "cell_type": "code",
   "execution_count": 202,
   "metadata": {},
   "outputs": [
    {
     "data": {
      "text/plain": [
       "3"
      ]
     },
     "execution_count": 202,
     "metadata": {},
     "output_type": "execute_result"
    }
   ],
   "source": [
    "n_rows, "
   ]
  },
  {
   "cell_type": "code",
   "execution_count": 217,
   "metadata": {},
   "outputs": [
    {
     "data": {
      "text/plain": [
       "(3, 3)"
      ]
     },
     "execution_count": 217,
     "metadata": {},
     "output_type": "execute_result"
    }
   ],
   "source": [
    "n_rows, n_cols"
   ]
  },
  {
   "cell_type": "code",
   "execution_count": 218,
   "metadata": {},
   "outputs": [
    {
     "data": {
      "text/plain": [
       "3"
      ]
     },
     "execution_count": 218,
     "metadata": {},
     "output_type": "execute_result"
    }
   ],
   "source": [
    "len(column) // 2"
   ]
  },
  {
   "cell_type": "code",
   "execution_count": 221,
   "metadata": {},
   "outputs": [
    {
     "data": {
      "text/plain": [
       "5"
      ]
     },
     "execution_count": 221,
     "metadata": {},
     "output_type": "execute_result"
    }
   ],
   "source": [
    "math.ceil(len(columns) / 3)"
   ]
  },
  {
   "cell_type": "code",
   "execution_count": 225,
   "metadata": {},
   "outputs": [
    {
     "data": {
      "text/plain": [
       "3"
      ]
     },
     "execution_count": 225,
     "metadata": {},
     "output_type": "execute_result"
    }
   ],
   "source": [
    "n_rows"
   ]
  },
  {
   "cell_type": "code",
   "execution_count": 232,
   "metadata": {},
   "outputs": [
    {
     "data": {
      "image/png": "[encoded data removed]",
      "text/plain": [
       "<Figure size 1800x3240 with 13 Axes>"
      ]
     },
     "metadata": {
      "needs_background": "light"
     },
     "output_type": "display_data"
    }
   ],
   "source": [
    "columns = df.columns.drop('Hogwarts House')\n",
    "n_cols = len(columns) // 2\n",
    "n_rows = math.ceil(len(columns) / n_cols)\n",
    "fig = plt.figure(figsize=(25,45))\n",
    "for plot_num, column in enumerate(columns):\n",
    "    ax = fig.add_subplot(n_cols, n_rows, plot_num+1)\n",
    "    sns.histplot(data=df, x=column, hue='Hogwarts House', ax=ax)  "
   ]
  },
  {
   "cell_type": "code",
   "execution_count": 171,
   "metadata": {},
   "outputs": [
    {
     "ename": "ValueError",
     "evalue": "Length of Index vectors must match length of `data` when both are used, but `data` has length 1600 and the vector passed to `x` has length 14.",
     "output_type": "error",
     "traceback": [
      "\u001b[0;31m---------------------------------------------------------------------------\u001b[0m",
      "\u001b[0;31mValueError\u001b[0m                                Traceback (most recent call last)",
      "\u001b[0;32m<ipython-input-171-617399d69b55>\u001b[0m in \u001b[0;36m<module>\u001b[0;34m\u001b[0m\n\u001b[1;32m      1\u001b[0m \u001b[0mplt\u001b[0m\u001b[0;34m.\u001b[0m\u001b[0mfigure\u001b[0m\u001b[0;34m(\u001b[0m\u001b[0mfigsize\u001b[0m\u001b[0;34m=\u001b[0m\u001b[0;34m(\u001b[0m\u001b[0;36m25\u001b[0m\u001b[0;34m,\u001b[0m\u001b[0;36m20\u001b[0m\u001b[0;34m)\u001b[0m\u001b[0;34m)\u001b[0m\u001b[0;34m\u001b[0m\u001b[0;34m\u001b[0m\u001b[0m\n\u001b[0;32m----> 2\u001b[0;31m \u001b[0msns\u001b[0m\u001b[0;34m.\u001b[0m\u001b[0mhistplot\u001b[0m\u001b[0;34m(\u001b[0m\u001b[0mdata\u001b[0m\u001b[0;34m=\u001b[0m\u001b[0mdf\u001b[0m\u001b[0;34m,\u001b[0m \u001b[0mx\u001b[0m\u001b[0;34m=\u001b[0m\u001b[0mdf\u001b[0m\u001b[0;34m.\u001b[0m\u001b[0mcolumns\u001b[0m\u001b[0;34m,\u001b[0m \u001b[0mhue\u001b[0m\u001b[0;34m=\u001b[0m\u001b[0;34m'Hogwarts House'\u001b[0m\u001b[0;34m)\u001b[0m\u001b[0;34m\u001b[0m\u001b[0;34m\u001b[0m\u001b[0m\n\u001b[0m",
      "\u001b[0;32m~/.virtualenvs/ft_logistic_regression/lib/python3.8/site-packages/seaborn/distributions.py\u001b[0m in \u001b[0;36mhistplot\u001b[0;34m(data, x, y, hue, weights, stat, bins, binwidth, binrange, discrete, cumulative, common_bins, common_norm, multiple, element, fill, shrink, kde, kde_kws, line_kws, thresh, pthresh, pmax, cbar, cbar_ax, cbar_kws, palette, hue_order, hue_norm, color, log_scale, legend, ax, **kwargs)\u001b[0m\n\u001b[1;32m   1388\u001b[0m ):\n\u001b[1;32m   1389\u001b[0m \u001b[0;34m\u001b[0m\u001b[0m\n\u001b[0;32m-> 1390\u001b[0;31m     p = _DistributionPlotter(\n\u001b[0m\u001b[1;32m   1391\u001b[0m         \u001b[0mdata\u001b[0m\u001b[0;34m=\u001b[0m\u001b[0mdata\u001b[0m\u001b[0;34m,\u001b[0m\u001b[0;34m\u001b[0m\u001b[0;34m\u001b[0m\u001b[0m\n\u001b[1;32m   1392\u001b[0m         \u001b[0mvariables\u001b[0m\u001b[0;34m=\u001b[0m\u001b[0m_DistributionPlotter\u001b[0m\u001b[0;34m.\u001b[0m\u001b[0mget_semantics\u001b[0m\u001b[0;34m(\u001b[0m\u001b[0mlocals\u001b[0m\u001b[0;34m(\u001b[0m\u001b[0;34m)\u001b[0m\u001b[0;34m)\u001b[0m\u001b[0;34m\u001b[0m\u001b[0;34m\u001b[0m\u001b[0m\n",
      "\u001b[0;32m~/.virtualenvs/ft_logistic_regression/lib/python3.8/site-packages/seaborn/distributions.py\u001b[0m in \u001b[0;36m__init__\u001b[0;34m(self, data, variables)\u001b[0m\n\u001b[1;32m    106\u001b[0m     ):\n\u001b[1;32m    107\u001b[0m \u001b[0;34m\u001b[0m\u001b[0m\n\u001b[0;32m--> 108\u001b[0;31m         \u001b[0msuper\u001b[0m\u001b[0;34m(\u001b[0m\u001b[0;34m)\u001b[0m\u001b[0;34m.\u001b[0m\u001b[0m__init__\u001b[0m\u001b[0;34m(\u001b[0m\u001b[0mdata\u001b[0m\u001b[0;34m=\u001b[0m\u001b[0mdata\u001b[0m\u001b[0;34m,\u001b[0m \u001b[0mvariables\u001b[0m\u001b[0;34m=\u001b[0m\u001b[0mvariables\u001b[0m\u001b[0;34m)\u001b[0m\u001b[0;34m\u001b[0m\u001b[0;34m\u001b[0m\u001b[0m\n\u001b[0m\u001b[1;32m    109\u001b[0m \u001b[0;34m\u001b[0m\u001b[0m\n\u001b[1;32m    110\u001b[0m     \u001b[0;34m@\u001b[0m\u001b[0mproperty\u001b[0m\u001b[0;34m\u001b[0m\u001b[0;34m\u001b[0m\u001b[0m\n",
      "\u001b[0;32m~/.virtualenvs/ft_logistic_regression/lib/python3.8/site-packages/seaborn/_core.py\u001b[0m in \u001b[0;36m__init__\u001b[0;34m(self, data, variables)\u001b[0m\n\u001b[1;32m    602\u001b[0m     \u001b[0;32mdef\u001b[0m \u001b[0m__init__\u001b[0m\u001b[0;34m(\u001b[0m\u001b[0mself\u001b[0m\u001b[0;34m,\u001b[0m \u001b[0mdata\u001b[0m\u001b[0;34m=\u001b[0m\u001b[0;32mNone\u001b[0m\u001b[0;34m,\u001b[0m \u001b[0mvariables\u001b[0m\u001b[0;34m=\u001b[0m\u001b[0;34m{\u001b[0m\u001b[0;34m}\u001b[0m\u001b[0;34m)\u001b[0m\u001b[0;34m:\u001b[0m\u001b[0;34m\u001b[0m\u001b[0;34m\u001b[0m\u001b[0m\n\u001b[1;32m    603\u001b[0m \u001b[0;34m\u001b[0m\u001b[0m\n\u001b[0;32m--> 604\u001b[0;31m         \u001b[0mself\u001b[0m\u001b[0;34m.\u001b[0m\u001b[0massign_variables\u001b[0m\u001b[0;34m(\u001b[0m\u001b[0mdata\u001b[0m\u001b[0;34m,\u001b[0m \u001b[0mvariables\u001b[0m\u001b[0;34m)\u001b[0m\u001b[0;34m\u001b[0m\u001b[0;34m\u001b[0m\u001b[0m\n\u001b[0m\u001b[1;32m    605\u001b[0m \u001b[0;34m\u001b[0m\u001b[0m\n\u001b[1;32m    606\u001b[0m         \u001b[0;32mfor\u001b[0m \u001b[0mvar\u001b[0m\u001b[0;34m,\u001b[0m \u001b[0mcls\u001b[0m \u001b[0;32min\u001b[0m \u001b[0mself\u001b[0m\u001b[0;34m.\u001b[0m\u001b[0m_semantic_mappings\u001b[0m\u001b[0;34m.\u001b[0m\u001b[0mitems\u001b[0m\u001b[0;34m(\u001b[0m\u001b[0;34m)\u001b[0m\u001b[0;34m:\u001b[0m\u001b[0;34m\u001b[0m\u001b[0;34m\u001b[0m\u001b[0m\n",
      "\u001b[0;32m~/.virtualenvs/ft_logistic_regression/lib/python3.8/site-packages/seaborn/_core.py\u001b[0m in \u001b[0;36massign_variables\u001b[0;34m(self, data, variables)\u001b[0m\n\u001b[1;32m    665\u001b[0m         \u001b[0;32melse\u001b[0m\u001b[0;34m:\u001b[0m\u001b[0;34m\u001b[0m\u001b[0;34m\u001b[0m\u001b[0m\n\u001b[1;32m    666\u001b[0m             \u001b[0mself\u001b[0m\u001b[0;34m.\u001b[0m\u001b[0minput_format\u001b[0m \u001b[0;34m=\u001b[0m \u001b[0;34m\"long\"\u001b[0m\u001b[0;34m\u001b[0m\u001b[0;34m\u001b[0m\u001b[0m\n\u001b[0;32m--> 667\u001b[0;31m             plot_data, variables = self._assign_variables_longform(\n\u001b[0m\u001b[1;32m    668\u001b[0m                 \u001b[0mdata\u001b[0m\u001b[0;34m,\u001b[0m \u001b[0;34m**\u001b[0m\u001b[0mvariables\u001b[0m\u001b[0;34m,\u001b[0m\u001b[0;34m\u001b[0m\u001b[0;34m\u001b[0m\u001b[0m\n\u001b[1;32m    669\u001b[0m             )\n",
      "\u001b[0;32m~/.virtualenvs/ft_logistic_regression/lib/python3.8/site-packages/seaborn/_core.py\u001b[0m in \u001b[0;36m_assign_variables_longform\u001b[0;34m(self, data, **kwargs)\u001b[0m\n\u001b[1;32m    900\u001b[0m                             \u001b[0;34mf\" and the vector passed to `{key}` has length {len(val)}.\"\u001b[0m\u001b[0;34m\u001b[0m\u001b[0;34m\u001b[0m\u001b[0m\n\u001b[1;32m    901\u001b[0m                         )\n\u001b[0;32m--> 902\u001b[0;31m                         \u001b[0;32mraise\u001b[0m \u001b[0mValueError\u001b[0m\u001b[0;34m(\u001b[0m\u001b[0merr\u001b[0m\u001b[0;34m)\u001b[0m\u001b[0;34m\u001b[0m\u001b[0;34m\u001b[0m\u001b[0m\n\u001b[0m\u001b[1;32m    903\u001b[0m \u001b[0;34m\u001b[0m\u001b[0m\n\u001b[1;32m    904\u001b[0m                 \u001b[0mplot_data\u001b[0m\u001b[0;34m[\u001b[0m\u001b[0mkey\u001b[0m\u001b[0;34m]\u001b[0m \u001b[0;34m=\u001b[0m \u001b[0mval\u001b[0m\u001b[0;34m\u001b[0m\u001b[0;34m\u001b[0m\u001b[0m\n",
      "\u001b[0;31mValueError\u001b[0m: Length of Index vectors must match length of `data` when both are used, but `data` has length 1600 and the vector passed to `x` has length 14."
     ]
    },
    {
     "data": {
      "text/plain": [
       "<Figure size 1800x1440 with 0 Axes>"
      ]
     },
     "metadata": {},
     "output_type": "display_data"
    }
   ],
   "source": [
    "plt.figure(figsize=(25,20))\n",
    "sns.histplot(data=df, x='Arithmancy', hue='Hogwarts House')"
   ]
  },
  {
   "cell_type": "code",
   "execution_count": 109,
   "metadata": {},
   "outputs": [
    {
     "data": {
      "text/plain": [
       "(array([[  2.,   3.,  20., 117., 304., 474., 397., 186.,  54.,   9.],\n",
       "        [  0.,   0.,   0.,  71., 635.,  34., 504., 322.,   2.,   0.],\n",
       "        [  0.,   0.,   3., 206., 379.,  65., 703., 210.,   1.,   0.],\n",
       "        [  0.,   0.,   0.,  50., 681., 110., 298., 429.,   1.,   0.],\n",
       "        [  0.,   0., 106., 171.,  11., 310., 901.,  62.,   0.,   0.],\n",
       "        [  0.,   0.,   0.,  16., 574., 521.,  63., 288., 102.,   1.],\n",
       "        [  0.,   0.,   0.,  90., 597., 130., 385., 358.,   5.,   0.],\n",
       "        [  0.,   0.,  51., 245.,  29., 320., 794., 114.,   4.,   0.],\n",
       "        [  0.,   0.,  74., 214.,  30., 288., 870.,  90.,   0.,   0.],\n",
       "        [  0.,   2.,  17., 133., 323., 441., 366., 238.,  50.,   0.],\n",
       "        [  0.,   4.,  26., 113., 285., 483., 393., 201.,  46.,   9.],\n",
       "        [  0.,   0.,   0.,  85., 430., 624.,  16., 428.,  17.,   0.],\n",
       "        [  0.,   0.,   0.,  55., 441., 676., 110., 150., 164.,   4.]]),\n",
       " array([-4.4381937 , -3.66260128, -2.88700886, -2.11141644, -1.33582401,\n",
       "        -0.56023159,  0.21536083,  0.99095325,  1.76654567,  2.5421381 ,\n",
       "         3.31773052]),\n",
       " <a list of 13 BarContainer objects>)"
      ]
     },
     "execution_count": 109,
     "metadata": {},
     "output_type": "execute_result"
    },
    {
     "data": {
      "image/png": "[encoded data removed]",
      "text/plain": [
       "<Figure size 432x288 with 1 Axes>"
      ]
     },
     "metadata": {
      "needs_background": "light"
     },
     "output_type": "display_data"
    }
   ],
   "source": [
    "plt.hist(df)"
   ]
  },
  {
   "cell_type": "code",
   "execution_count": 48,
   "metadata": {},
   "outputs": [],
   "source": [
    "from matplotlib import pyplot as plt"
   ]
  },
  {
   "cell_type": "code",
   "execution_count": 49,
   "metadata": {},
   "outputs": [
    {
     "data": {
      "text/plain": [
       "<module 'matplotlib.pyplot' from '/Users/ljonnel-/.virtualenvs/ft_logistic_regression/lib/python3.8/site-packages/matplotlib/pyplot.py'>"
      ]
     },
     "execution_count": 49,
     "metadata": {},
     "output_type": "execute_result"
    }
   ],
   "source": [
    "plt.hist()"
   ]
  },
  {
   "cell_type": "code",
   "execution_count": null,
   "metadata": {},
   "outputs": [],
   "source": []
  }
 ],
 "metadata": {
  "kernelspec": {
   "display_name": "Python 3",
   "language": "python",
   "name": "python3"
  },
  "language_info": {
   "codemirror_mode": {
    "name": "ipython",
    "version": 3
   },
   "file_extension": ".py",
   "mimetype": "text/x-python",
   "name": "python",
   "nbconvert_exporter": "python",
   "pygments_lexer": "ipython3",
   "version": "3.8.6"
  }
 },
 "nbformat": 4,
 "nbformat_minor": 4
}
